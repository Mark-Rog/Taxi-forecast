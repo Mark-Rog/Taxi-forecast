{
 "cells": [
  {
   "cell_type": "markdown",
   "metadata": {},
   "source": [
    "#  Прогнозирование заказов такси"
   ]
  },
  {
   "cell_type": "markdown",
   "metadata": {},
   "source": [
    "## Подготовка"
   ]
  },
  {
   "cell_type": "code",
   "execution_count": 1,
   "metadata": {},
   "outputs": [],
   "source": [
    "import pandas as pd\n",
    "import numpy as np\n",
    "from sklearn.metrics import mean_absolute_error\n",
    "from statsmodels.tsa.seasonal import seasonal_decompose\n",
    "import matplotlib.pyplot as plt\n",
    "from sklearn.model_selection import train_test_split\n",
    "from sklearn.metrics import mean_squared_error\n",
    "from sklearn.linear_model import LinearRegression\n",
    "from sklearn.tree import DecisionTreeRegressor\n",
    "from sklearn.ensemble import RandomForestRegressor\n",
    "from sklearn.model_selection import TimeSeriesSplit\n",
    "from sklearn.model_selection import GridSearchCV"
   ]
  },
  {
   "cell_type": "code",
   "execution_count": 2,
   "metadata": {},
   "outputs": [],
   "source": [
    "data = pd.read_csv('/datasets/taxi.csv')"
   ]
  },
  {
   "cell_type": "code",
   "execution_count": 3,
   "metadata": {},
   "outputs": [
    {
     "data": {
      "text/html": [
       "<div>\n",
       "<style scoped>\n",
       "    .dataframe tbody tr th:only-of-type {\n",
       "        vertical-align: middle;\n",
       "    }\n",
       "\n",
       "    .dataframe tbody tr th {\n",
       "        vertical-align: top;\n",
       "    }\n",
       "\n",
       "    .dataframe thead th {\n",
       "        text-align: right;\n",
       "    }\n",
       "</style>\n",
       "<table border=\"1\" class=\"dataframe\">\n",
       "  <thead>\n",
       "    <tr style=\"text-align: right;\">\n",
       "      <th></th>\n",
       "      <th>datetime</th>\n",
       "      <th>num_orders</th>\n",
       "    </tr>\n",
       "  </thead>\n",
       "  <tbody>\n",
       "    <tr>\n",
       "      <td>0</td>\n",
       "      <td>2018-03-01 00:00:00</td>\n",
       "      <td>9</td>\n",
       "    </tr>\n",
       "    <tr>\n",
       "      <td>1</td>\n",
       "      <td>2018-03-01 00:10:00</td>\n",
       "      <td>14</td>\n",
       "    </tr>\n",
       "    <tr>\n",
       "      <td>2</td>\n",
       "      <td>2018-03-01 00:20:00</td>\n",
       "      <td>28</td>\n",
       "    </tr>\n",
       "    <tr>\n",
       "      <td>3</td>\n",
       "      <td>2018-03-01 00:30:00</td>\n",
       "      <td>20</td>\n",
       "    </tr>\n",
       "    <tr>\n",
       "      <td>4</td>\n",
       "      <td>2018-03-01 00:40:00</td>\n",
       "      <td>32</td>\n",
       "    </tr>\n",
       "    <tr>\n",
       "      <td>5</td>\n",
       "      <td>2018-03-01 00:50:00</td>\n",
       "      <td>21</td>\n",
       "    </tr>\n",
       "    <tr>\n",
       "      <td>6</td>\n",
       "      <td>2018-03-01 01:00:00</td>\n",
       "      <td>7</td>\n",
       "    </tr>\n",
       "    <tr>\n",
       "      <td>7</td>\n",
       "      <td>2018-03-01 01:10:00</td>\n",
       "      <td>5</td>\n",
       "    </tr>\n",
       "    <tr>\n",
       "      <td>8</td>\n",
       "      <td>2018-03-01 01:20:00</td>\n",
       "      <td>17</td>\n",
       "    </tr>\n",
       "    <tr>\n",
       "      <td>9</td>\n",
       "      <td>2018-03-01 01:30:00</td>\n",
       "      <td>12</td>\n",
       "    </tr>\n",
       "  </tbody>\n",
       "</table>\n",
       "</div>"
      ],
      "text/plain": [
       "              datetime  num_orders\n",
       "0  2018-03-01 00:00:00           9\n",
       "1  2018-03-01 00:10:00          14\n",
       "2  2018-03-01 00:20:00          28\n",
       "3  2018-03-01 00:30:00          20\n",
       "4  2018-03-01 00:40:00          32\n",
       "5  2018-03-01 00:50:00          21\n",
       "6  2018-03-01 01:00:00           7\n",
       "7  2018-03-01 01:10:00           5\n",
       "8  2018-03-01 01:20:00          17\n",
       "9  2018-03-01 01:30:00          12"
      ]
     },
     "execution_count": 3,
     "metadata": {},
     "output_type": "execute_result"
    }
   ],
   "source": [
    "data.head(10)"
   ]
  },
  {
   "cell_type": "code",
   "execution_count": 4,
   "metadata": {},
   "outputs": [
    {
     "name": "stdout",
     "output_type": "stream",
     "text": [
      "<class 'pandas.core.frame.DataFrame'>\n",
      "RangeIndex: 26496 entries, 0 to 26495\n",
      "Data columns (total 2 columns):\n",
      "datetime      26496 non-null object\n",
      "num_orders    26496 non-null int64\n",
      "dtypes: int64(1), object(1)\n",
      "memory usage: 414.1+ KB\n"
     ]
    }
   ],
   "source": [
    "data.info()"
   ]
  },
  {
   "cell_type": "markdown",
   "metadata": {},
   "source": [
    "Проверим на дубликаты, пропуски и преобразуем тип данных"
   ]
  },
  {
   "cell_type": "code",
   "execution_count": 5,
   "metadata": {},
   "outputs": [
    {
     "data": {
      "text/plain": [
       "0"
      ]
     },
     "execution_count": 5,
     "metadata": {},
     "output_type": "execute_result"
    }
   ],
   "source": [
    "data.duplicated().sum()"
   ]
  },
  {
   "cell_type": "code",
   "execution_count": 6,
   "metadata": {},
   "outputs": [
    {
     "data": {
      "text/plain": [
       "datetime      0\n",
       "num_orders    0\n",
       "dtype: int64"
      ]
     },
     "execution_count": 6,
     "metadata": {},
     "output_type": "execute_result"
    }
   ],
   "source": [
    "data.isna().sum()"
   ]
  },
  {
   "cell_type": "code",
   "execution_count": 7,
   "metadata": {},
   "outputs": [],
   "source": [
    "data['datetime'] = pd.to_datetime(data['datetime'])"
   ]
  },
  {
   "cell_type": "code",
   "execution_count": 8,
   "metadata": {},
   "outputs": [],
   "source": [
    "data = data.set_index('datetime')"
   ]
  },
  {
   "cell_type": "code",
   "execution_count": 9,
   "metadata": {},
   "outputs": [
    {
     "name": "stdout",
     "output_type": "stream",
     "text": [
      "True\n"
     ]
    }
   ],
   "source": [
    "print(data.index.is_monotonic)"
   ]
  },
  {
   "cell_type": "markdown",
   "metadata": {},
   "source": [
    "Итак у нас монотонный временной ряд с шагом в 10 минут. Ресемплируем на 1 час"
   ]
  },
  {
   "cell_type": "code",
   "execution_count": 10,
   "metadata": {},
   "outputs": [],
   "source": [
    "data = data.resample('1H').sum()"
   ]
  },
  {
   "cell_type": "markdown",
   "metadata": {},
   "source": [
    "## Анализ"
   ]
  },
  {
   "cell_type": "code",
   "execution_count": 11,
   "metadata": {},
   "outputs": [
    {
     "data": {
      "text/plain": [
       "<matplotlib.axes._subplots.AxesSubplot at 0x7f4dbcfbcdd0>"
      ]
     },
     "execution_count": 11,
     "metadata": {},
     "output_type": "execute_result"
    },
    {
     "data": {
      "image/png": "[encoded data removed]",
      "text/plain": [
       "<Figure size 1080x288 with 1 Axes>"
      ]
     },
     "metadata": {
      "needs_background": "light"
     },
     "output_type": "display_data"
    }
   ],
   "source": [
    "data.plot(figsize=(15,4))"
   ]
  },
  {
   "cell_type": "markdown",
   "metadata": {},
   "source": [
    "Не очень информативно, однако видны существенные выбросы после авугста."
   ]
  },
  {
   "cell_type": "code",
   "execution_count": 12,
   "metadata": {},
   "outputs": [
    {
     "data": {
      "text/plain": [
       "<matplotlib.axes._subplots.AxesSubplot at 0x7f4db8a9c250>"
      ]
     },
     "execution_count": 12,
     "metadata": {},
     "output_type": "execute_result"
    },
    {
     "data": {
      "image/png": "[encoded data removed]",
      "text/plain": [
       "<Figure size 1080x288 with 1 Axes>"
      ]
     },
     "metadata": {
      "needs_background": "light"
     },
     "output_type": "display_data"
    }
   ],
   "source": [
    "lol = data['2018-08':]\n",
    "lol.plot(figsize=(15,4))"
   ]
  },
  {
   "cell_type": "code",
   "execution_count": 13,
   "metadata": {},
   "outputs": [
    {
     "name": "stderr",
     "output_type": "stream",
     "text": [
      "/opt/conda/lib/python3.7/site-packages/ipykernel_launcher.py:1: SettingWithCopyWarning: \n",
      "A value is trying to be set on a copy of a slice from a DataFrame.\n",
      "Try using .loc[row_indexer,col_indexer] = value instead\n",
      "\n",
      "See the caveats in the documentation: http://pandas.pydata.org/pandas-docs/stable/user_guide/indexing.html#returning-a-view-versus-a-copy\n",
      "  \"\"\"Entry point for launching an IPython kernel.\n"
     ]
    },
    {
     "data": {
      "text/plain": [
       "<matplotlib.axes._subplots.AxesSubplot at 0x7f4db89eda10>"
      ]
     },
     "execution_count": 13,
     "metadata": {},
     "output_type": "execute_result"
    },
    {
     "data": {
      "image/png": "[encoded data removed]",
      "text/plain": [
       "<Figure size 1080x288 with 1 Axes>"
      ]
     },
     "metadata": {
      "needs_background": "light"
     },
     "output_type": "display_data"
    }
   ],
   "source": [
    "lol['rolling_mean'] = lol.rolling(30).mean() \n",
    "lol.plot(figsize=(15,4))"
   ]
  },
  {
   "cell_type": "markdown",
   "metadata": {},
   "source": [
    "Посмотрим на тренд за август"
   ]
  },
  {
   "cell_type": "code",
   "execution_count": 14,
   "metadata": {},
   "outputs": [],
   "source": [
    "lol = lol.drop(['rolling_mean'], axis=1)"
   ]
  },
  {
   "cell_type": "code",
   "execution_count": 15,
   "metadata": {},
   "outputs": [],
   "source": [
    "decomposed_lol = seasonal_decompose(lol)"
   ]
  },
  {
   "cell_type": "code",
   "execution_count": 16,
   "metadata": {},
   "outputs": [
    {
     "data": {
      "text/plain": [
       "Text(0.5, 1.0, 'Trend')"
      ]
     },
     "execution_count": 16,
     "metadata": {},
     "output_type": "execute_result"
    },
    {
     "data": {
      "image/png": "[encoded data removed]",
      "text/plain": [
       "<Figure size 1080x288 with 1 Axes>"
      ]
     },
     "metadata": {
      "needs_background": "light"
     },
     "output_type": "display_data"
    }
   ],
   "source": [
    "decomposed_lol.trend.plot(ax=plt.gca(), figsize=(15,4))\n",
    "plt.title('Trend')\n"
   ]
  },
  {
   "cell_type": "markdown",
   "metadata": {},
   "source": [
    "Итак, видим восходящий тренд с скачками в 3-4 дня. Восходящий тренд ясен! Пондемии не было, туризм развивался активно.\n",
    "Что касается скачков, думаю это связано с чартерными рейсами. Они обычно летают пару раз в неделю.\n",
    "Посмотрим весь датасет."
   ]
  },
  {
   "cell_type": "code",
   "execution_count": 17,
   "metadata": {},
   "outputs": [],
   "source": [
    "decomposed = seasonal_decompose(data)"
   ]
  },
  {
   "cell_type": "code",
   "execution_count": 18,
   "metadata": {},
   "outputs": [
    {
     "data": {
      "text/plain": [
       "Text(0.5, 1.0, 'Trend')"
      ]
     },
     "execution_count": 18,
     "metadata": {},
     "output_type": "execute_result"
    },
    {
     "data": {
      "image/png": "[encoded data removed]",
      "text/plain": [
       "<Figure size 1080x288 with 1 Axes>"
      ]
     },
     "metadata": {
      "needs_background": "light"
     },
     "output_type": "display_data"
    }
   ],
   "source": [
    "decomposed.trend.plot(ax=plt.gca(), figsize=(15,4))\n",
    "plt.title('Trend')\n",
    "\n"
   ]
  },
  {
   "cell_type": "code",
   "execution_count": 19,
   "metadata": {},
   "outputs": [
    {
     "data": {
      "text/plain": [
       "Text(0.5, 1.0, 'Seasonality')"
      ]
     },
     "execution_count": 19,
     "metadata": {},
     "output_type": "execute_result"
    },
    {
     "data": {
      "image/png": "[encoded data removed]",
      "text/plain": [
       "<Figure size 1080x288 with 1 Axes>"
      ]
     },
     "metadata": {
      "needs_background": "light"
     },
     "output_type": "display_data"
    }
   ],
   "source": [
    "decomposed.seasonal.plot(ax=plt.gca(), figsize=(15,4)) \n",
    "plt.title('Seasonality')\n",
    "\n"
   ]
  },
  {
   "cell_type": "code",
   "execution_count": 20,
   "metadata": {},
   "outputs": [
    {
     "data": {
      "text/plain": [
       "<matplotlib.axes._subplots.AxesSubplot at 0x7f4daed237d0>"
      ]
     },
     "execution_count": 20,
     "metadata": {},
     "output_type": "execute_result"
    },
    {
     "data": {
      "image/png": "[encoded data removed]",
      "text/plain": [
       "<Figure size 1080x288 with 1 Axes>"
      ]
     },
     "metadata": {
      "needs_background": "light"
     },
     "output_type": "display_data"
    }
   ],
   "source": [
    "decomposed.seasonal['2018-08-20':].plot(ax=plt.gca(), figsize=(15,4)) "
   ]
  },
  {
   "cell_type": "code",
   "execution_count": 21,
   "metadata": {},
   "outputs": [
    {
     "data": {
      "text/plain": [
       "Text(0.5, 1.0, 'Residuals')"
      ]
     },
     "execution_count": 21,
     "metadata": {},
     "output_type": "execute_result"
    },
    {
     "data": {
      "image/png": "[encoded data removed]",
      "text/plain": [
       "<Figure size 1080x288 with 1 Axes>"
      ]
     },
     "metadata": {
      "needs_background": "light"
     },
     "output_type": "display_data"
    }
   ],
   "source": [
    "decomposed.resid.plot(ax=plt.gca(), figsize=(15,4))\n",
    "plt.title('Residuals')\n"
   ]
  },
  {
   "cell_type": "markdown",
   "metadata": {},
   "source": [
    "Видим стабильно восходящий тренд, сезонности нет, остатки не обьяснить"
   ]
  },
  {
   "cell_type": "markdown",
   "metadata": {},
   "source": [
    "## Обучение"
   ]
  },
  {
   "cell_type": "markdown",
   "metadata": {},
   "source": [
    "Создадим признаки: час, день, месяц, день недели, отстающие значения, скользящее среднее."
   ]
  },
  {
   "cell_type": "code",
   "execution_count": 22,
   "metadata": {},
   "outputs": [
    {
     "data": {
      "text/html": [
       "<div>\n",
       "<style scoped>\n",
       "    .dataframe tbody tr th:only-of-type {\n",
       "        vertical-align: middle;\n",
       "    }\n",
       "\n",
       "    .dataframe tbody tr th {\n",
       "        vertical-align: top;\n",
       "    }\n",
       "\n",
       "    .dataframe thead th {\n",
       "        text-align: right;\n",
       "    }\n",
       "</style>\n",
       "<table border=\"1\" class=\"dataframe\">\n",
       "  <thead>\n",
       "    <tr style=\"text-align: right;\">\n",
       "      <th></th>\n",
       "      <th>num_orders</th>\n",
       "    </tr>\n",
       "    <tr>\n",
       "      <th>datetime</th>\n",
       "      <th></th>\n",
       "    </tr>\n",
       "  </thead>\n",
       "  <tbody>\n",
       "    <tr>\n",
       "      <td>2018-03-01 00:00:00</td>\n",
       "      <td>124</td>\n",
       "    </tr>\n",
       "    <tr>\n",
       "      <td>2018-03-01 01:00:00</td>\n",
       "      <td>85</td>\n",
       "    </tr>\n",
       "    <tr>\n",
       "      <td>2018-03-01 02:00:00</td>\n",
       "      <td>71</td>\n",
       "    </tr>\n",
       "    <tr>\n",
       "      <td>2018-03-01 03:00:00</td>\n",
       "      <td>66</td>\n",
       "    </tr>\n",
       "    <tr>\n",
       "      <td>2018-03-01 04:00:00</td>\n",
       "      <td>43</td>\n",
       "    </tr>\n",
       "  </tbody>\n",
       "</table>\n",
       "</div>"
      ],
      "text/plain": [
       "                     num_orders\n",
       "datetime                       \n",
       "2018-03-01 00:00:00         124\n",
       "2018-03-01 01:00:00          85\n",
       "2018-03-01 02:00:00          71\n",
       "2018-03-01 03:00:00          66\n",
       "2018-03-01 04:00:00          43"
      ]
     },
     "execution_count": 22,
     "metadata": {},
     "output_type": "execute_result"
    }
   ],
   "source": [
    "data.head(5)"
   ]
  },
  {
   "cell_type": "code",
   "execution_count": 23,
   "metadata": {},
   "outputs": [],
   "source": [
    "def make_features(df, max_lag, rolling_mean_size):\n",
    "    new_df = df.copy()\n",
    "    new_df['hour'] = new_df.index.hour\n",
    "    new_df['month'] = new_df.index.month\n",
    "    new_df['day'] = new_df.index.day\n",
    "    new_df['dayofweek'] = new_df.index.dayofweek\n",
    "    \n",
    "    for lag in range(1, max_lag + 1):\n",
    "        new_df['lag_{}'.format(lag)] = new_df['num_orders'].shift(lag)\n",
    "\n",
    "    new_df['rolling_mean'] = new_df['num_orders'].shift().rolling(rolling_mean_size).mean() \n",
    "    return new_df\n",
    "    "
   ]
  },
  {
   "cell_type": "code",
   "execution_count": 24,
   "metadata": {},
   "outputs": [
    {
     "data": {
      "text/html": [
       "<div>\n",
       "<style scoped>\n",
       "    .dataframe tbody tr th:only-of-type {\n",
       "        vertical-align: middle;\n",
       "    }\n",
       "\n",
       "    .dataframe tbody tr th {\n",
       "        vertical-align: top;\n",
       "    }\n",
       "\n",
       "    .dataframe thead th {\n",
       "        text-align: right;\n",
       "    }\n",
       "</style>\n",
       "<table border=\"1\" class=\"dataframe\">\n",
       "  <thead>\n",
       "    <tr style=\"text-align: right;\">\n",
       "      <th></th>\n",
       "      <th>num_orders</th>\n",
       "      <th>hour</th>\n",
       "      <th>month</th>\n",
       "      <th>day</th>\n",
       "      <th>dayofweek</th>\n",
       "      <th>lag_1</th>\n",
       "      <th>lag_2</th>\n",
       "      <th>lag_3</th>\n",
       "      <th>lag_4</th>\n",
       "      <th>rolling_mean</th>\n",
       "    </tr>\n",
       "    <tr>\n",
       "      <th>datetime</th>\n",
       "      <th></th>\n",
       "      <th></th>\n",
       "      <th></th>\n",
       "      <th></th>\n",
       "      <th></th>\n",
       "      <th></th>\n",
       "      <th></th>\n",
       "      <th></th>\n",
       "      <th></th>\n",
       "      <th></th>\n",
       "    </tr>\n",
       "  </thead>\n",
       "  <tbody>\n",
       "    <tr>\n",
       "      <td>2018-03-01 04:00:00</td>\n",
       "      <td>43</td>\n",
       "      <td>4</td>\n",
       "      <td>3</td>\n",
       "      <td>1</td>\n",
       "      <td>3</td>\n",
       "      <td>66.0</td>\n",
       "      <td>71.0</td>\n",
       "      <td>85.0</td>\n",
       "      <td>124.0</td>\n",
       "      <td>86.50</td>\n",
       "    </tr>\n",
       "    <tr>\n",
       "      <td>2018-03-01 05:00:00</td>\n",
       "      <td>6</td>\n",
       "      <td>5</td>\n",
       "      <td>3</td>\n",
       "      <td>1</td>\n",
       "      <td>3</td>\n",
       "      <td>43.0</td>\n",
       "      <td>66.0</td>\n",
       "      <td>71.0</td>\n",
       "      <td>85.0</td>\n",
       "      <td>66.25</td>\n",
       "    </tr>\n",
       "    <tr>\n",
       "      <td>2018-03-01 06:00:00</td>\n",
       "      <td>12</td>\n",
       "      <td>6</td>\n",
       "      <td>3</td>\n",
       "      <td>1</td>\n",
       "      <td>3</td>\n",
       "      <td>6.0</td>\n",
       "      <td>43.0</td>\n",
       "      <td>66.0</td>\n",
       "      <td>71.0</td>\n",
       "      <td>46.50</td>\n",
       "    </tr>\n",
       "    <tr>\n",
       "      <td>2018-03-01 07:00:00</td>\n",
       "      <td>15</td>\n",
       "      <td>7</td>\n",
       "      <td>3</td>\n",
       "      <td>1</td>\n",
       "      <td>3</td>\n",
       "      <td>12.0</td>\n",
       "      <td>6.0</td>\n",
       "      <td>43.0</td>\n",
       "      <td>66.0</td>\n",
       "      <td>31.75</td>\n",
       "    </tr>\n",
       "    <tr>\n",
       "      <td>2018-03-01 08:00:00</td>\n",
       "      <td>34</td>\n",
       "      <td>8</td>\n",
       "      <td>3</td>\n",
       "      <td>1</td>\n",
       "      <td>3</td>\n",
       "      <td>15.0</td>\n",
       "      <td>12.0</td>\n",
       "      <td>6.0</td>\n",
       "      <td>43.0</td>\n",
       "      <td>19.00</td>\n",
       "    </tr>\n",
       "    <tr>\n",
       "      <td>2018-03-01 09:00:00</td>\n",
       "      <td>69</td>\n",
       "      <td>9</td>\n",
       "      <td>3</td>\n",
       "      <td>1</td>\n",
       "      <td>3</td>\n",
       "      <td>34.0</td>\n",
       "      <td>15.0</td>\n",
       "      <td>12.0</td>\n",
       "      <td>6.0</td>\n",
       "      <td>16.75</td>\n",
       "    </tr>\n",
       "    <tr>\n",
       "      <td>2018-03-01 10:00:00</td>\n",
       "      <td>64</td>\n",
       "      <td>10</td>\n",
       "      <td>3</td>\n",
       "      <td>1</td>\n",
       "      <td>3</td>\n",
       "      <td>69.0</td>\n",
       "      <td>34.0</td>\n",
       "      <td>15.0</td>\n",
       "      <td>12.0</td>\n",
       "      <td>32.50</td>\n",
       "    </tr>\n",
       "    <tr>\n",
       "      <td>2018-03-01 11:00:00</td>\n",
       "      <td>96</td>\n",
       "      <td>11</td>\n",
       "      <td>3</td>\n",
       "      <td>1</td>\n",
       "      <td>3</td>\n",
       "      <td>64.0</td>\n",
       "      <td>69.0</td>\n",
       "      <td>34.0</td>\n",
       "      <td>15.0</td>\n",
       "      <td>45.50</td>\n",
       "    </tr>\n",
       "    <tr>\n",
       "      <td>2018-03-01 12:00:00</td>\n",
       "      <td>30</td>\n",
       "      <td>12</td>\n",
       "      <td>3</td>\n",
       "      <td>1</td>\n",
       "      <td>3</td>\n",
       "      <td>96.0</td>\n",
       "      <td>64.0</td>\n",
       "      <td>69.0</td>\n",
       "      <td>34.0</td>\n",
       "      <td>65.75</td>\n",
       "    </tr>\n",
       "    <tr>\n",
       "      <td>2018-03-01 13:00:00</td>\n",
       "      <td>32</td>\n",
       "      <td>13</td>\n",
       "      <td>3</td>\n",
       "      <td>1</td>\n",
       "      <td>3</td>\n",
       "      <td>30.0</td>\n",
       "      <td>96.0</td>\n",
       "      <td>64.0</td>\n",
       "      <td>69.0</td>\n",
       "      <td>64.75</td>\n",
       "    </tr>\n",
       "  </tbody>\n",
       "</table>\n",
       "</div>"
      ],
      "text/plain": [
       "                     num_orders  hour  month  day  dayofweek  lag_1  lag_2  \\\n",
       "datetime                                                                     \n",
       "2018-03-01 04:00:00          43     4      3    1          3   66.0   71.0   \n",
       "2018-03-01 05:00:00           6     5      3    1          3   43.0   66.0   \n",
       "2018-03-01 06:00:00          12     6      3    1          3    6.0   43.0   \n",
       "2018-03-01 07:00:00          15     7      3    1          3   12.0    6.0   \n",
       "2018-03-01 08:00:00          34     8      3    1          3   15.0   12.0   \n",
       "2018-03-01 09:00:00          69     9      3    1          3   34.0   15.0   \n",
       "2018-03-01 10:00:00          64    10      3    1          3   69.0   34.0   \n",
       "2018-03-01 11:00:00          96    11      3    1          3   64.0   69.0   \n",
       "2018-03-01 12:00:00          30    12      3    1          3   96.0   64.0   \n",
       "2018-03-01 13:00:00          32    13      3    1          3   30.0   96.0   \n",
       "\n",
       "                     lag_3  lag_4  rolling_mean  \n",
       "datetime                                         \n",
       "2018-03-01 04:00:00   85.0  124.0         86.50  \n",
       "2018-03-01 05:00:00   71.0   85.0         66.25  \n",
       "2018-03-01 06:00:00   66.0   71.0         46.50  \n",
       "2018-03-01 07:00:00   43.0   66.0         31.75  \n",
       "2018-03-01 08:00:00    6.0   43.0         19.00  \n",
       "2018-03-01 09:00:00   12.0    6.0         16.75  \n",
       "2018-03-01 10:00:00   15.0   12.0         32.50  \n",
       "2018-03-01 11:00:00   34.0   15.0         45.50  \n",
       "2018-03-01 12:00:00   69.0   34.0         65.75  \n",
       "2018-03-01 13:00:00   64.0   69.0         64.75  "
      ]
     },
     "execution_count": 24,
     "metadata": {},
     "output_type": "execute_result"
    }
   ],
   "source": [
    "feat_data = make_features(data, 4, 4)\n",
    "\n",
    "feat_data = feat_data.dropna()\n",
    "feat_data.head(10)"
   ]
  },
  {
   "cell_type": "code",
   "execution_count": 25,
   "metadata": {},
   "outputs": [],
   "source": [
    "train, test = train_test_split(feat_data, shuffle=False, test_size=0.1)"
   ]
  },
  {
   "cell_type": "code",
   "execution_count": 26,
   "metadata": {},
   "outputs": [],
   "source": [
    "train_features = train.drop(columns='num_orders')\n",
    "train_target = train['num_orders']\n",
    "test_features = test.drop(columns='num_orders')\n",
    "test_target = test['num_orders']\n"
   ]
  },
  {
   "cell_type": "markdown",
   "metadata": {},
   "source": [
    "#### LinearRegression"
   ]
  },
  {
   "cell_type": "code",
   "execution_count": 27,
   "metadata": {},
   "outputs": [
    {
     "data": {
      "text/plain": [
       "LinearRegression(copy_X=True, fit_intercept=True, n_jobs=None, normalize=False)"
      ]
     },
     "execution_count": 27,
     "metadata": {},
     "output_type": "execute_result"
    }
   ],
   "source": [
    "tscv_l = TimeSeriesSplit(n_splits = 3)\n",
    "\n",
    "for train_index, test_index in tscv_l.split(train_features):\n",
    "    cv_train_features_l, cv_test_features_l = train_features.iloc[train_index] \\\n",
    "                                        , train_features.iloc[test_index]\n",
    "    cv_train_target_l, cv_test_target_l = train_target.iloc[train_index] \\\n",
    "                                    , train_target.iloc[test_index]\n",
    "    \n",
    "    \n",
    "mod_l = LinearRegression()\n",
    "mod_l.fit(cv_train_features_l, cv_train_target_l)"
   ]
  },
  {
   "cell_type": "markdown",
   "metadata": {},
   "source": [
    "#### DecisionTreeRegressor"
   ]
  },
  {
   "cell_type": "code",
   "execution_count": 28,
   "metadata": {},
   "outputs": [
    {
     "data": {
      "text/plain": [
       "GridSearchCV(cv=TimeSeriesSplit(max_train_size=None, n_splits=3),\n",
       "             error_score='raise-deprecating',\n",
       "             estimator=DecisionTreeRegressor(criterion='mse', max_depth=None,\n",
       "                                             max_features=None,\n",
       "                                             max_leaf_nodes=None,\n",
       "                                             min_impurity_decrease=0.0,\n",
       "                                             min_impurity_split=None,\n",
       "                                             min_samples_leaf=1,\n",
       "                                             min_samples_split=2,\n",
       "                                             min_weight_fraction_leaf=0.0,\n",
       "                                             presort=False, random_state=None,\n",
       "                                             splitter='best'),\n",
       "             iid='warn', n_jobs=None, param_grid={'max_depth': [1, 15]},\n",
       "             pre_dispatch='2*n_jobs', refit=True, return_train_score=False,\n",
       "             scoring='neg_mean_absolute_error', verbose=0)"
      ]
     },
     "execution_count": 28,
     "metadata": {},
     "output_type": "execute_result"
    }
   ],
   "source": [
    "mod_t = DecisionTreeRegressor()\n",
    "param_search_t = {'max_depth' : [1, 15]}\n",
    "\n",
    "tscv_t = TimeSeriesSplit(n_splits=3)\n",
    "gsearch_t = GridSearchCV(estimator=mod_t, cv=tscv_t,\n",
    "                        param_grid=param_search_t, scoring=\"neg_mean_absolute_error\")\n",
    "gsearch_t.fit(train_features, train_target)"
   ]
  },
  {
   "cell_type": "markdown",
   "metadata": {},
   "source": [
    "#### RandomForestRegressor"
   ]
  },
  {
   "cell_type": "code",
   "execution_count": 29,
   "metadata": {},
   "outputs": [
    {
     "data": {
      "text/plain": [
       "GridSearchCV(cv=TimeSeriesSplit(max_train_size=None, n_splits=3),\n",
       "             error_score='raise-deprecating',\n",
       "             estimator=RandomForestRegressor(bootstrap=True, criterion='mse',\n",
       "                                             max_depth=None,\n",
       "                                             max_features='auto',\n",
       "                                             max_leaf_nodes=None,\n",
       "                                             min_impurity_decrease=0.0,\n",
       "                                             min_impurity_split=None,\n",
       "                                             min_samples_leaf=1,\n",
       "                                             min_samples_split=2,\n",
       "                                             min_weight_fraction_leaf=0.0,\n",
       "                                             n_estimators='warn', n_jobs=None,\n",
       "                                             oob_score=False, random_state=None,\n",
       "                                             verbose=0, warm_start=False),\n",
       "             iid='warn', n_jobs=None,\n",
       "             param_grid={'max_depth': [1, 20], 'n_estimators': [10, 71, 10]},\n",
       "             pre_dispatch='2*n_jobs', refit=True, return_train_score=False,\n",
       "             scoring='neg_mean_absolute_error', verbose=0)"
      ]
     },
     "execution_count": 29,
     "metadata": {},
     "output_type": "execute_result"
    }
   ],
   "source": [
    "mod_f = RandomForestRegressor()\n",
    "param_search_f = {'max_depth' : [1, 20], 'n_estimators' : [10, 71, 10]}\n",
    "\n",
    "tscv_f = TimeSeriesSplit(n_splits=3)\n",
    "gsearch_f = GridSearchCV(estimator=mod_f, cv=tscv_f,\n",
    "                        param_grid=param_search_f, scoring=\"neg_mean_absolute_error\")\n",
    "gsearch_f.fit(train_features, train_target)"
   ]
  },
  {
   "cell_type": "markdown",
   "metadata": {},
   "source": [
    "## Тестирование"
   ]
  },
  {
   "cell_type": "code",
   "execution_count": 30,
   "metadata": {},
   "outputs": [],
   "source": [
    "pred_l = mod_l.predict(cv_test_features_l)\n",
    "    \n",
    "rsme_l = np.sqrt(mean_squared_error(pred_l, cv_test_target_l))\n"
   ]
  },
  {
   "cell_type": "code",
   "execution_count": 31,
   "metadata": {},
   "outputs": [],
   "source": [
    "pred_t = gsearch_t.predict(test_features)\n",
    "rsme_t = np.sqrt(mean_squared_error(pred_t, test_target))"
   ]
  },
  {
   "cell_type": "code",
   "execution_count": 33,
   "metadata": {},
   "outputs": [],
   "source": [
    "pred_f = gsearch_f.predict(test_features)\n",
    "rsme_f = np.sqrt(mean_squared_error(pred_f, test_target))"
   ]
  },
  {
   "cell_type": "code",
   "execution_count": 34,
   "metadata": {},
   "outputs": [
    {
     "name": "stdout",
     "output_type": "stream",
     "text": [
      "RMSE на древе решений: 54.27286833582391\n",
      "RMSE на линейной регресии: 37.496617696019946\n",
      "RMSE на случайном лесе: 46.368311307472545\n"
     ]
    }
   ],
   "source": [
    "print(\"RMSE на древе решений:\", rsme_t)\n",
    "print(\"RMSE на линейной регресии:\", rsme_l)\n",
    "print(\"RMSE на случайном лесе:\", rsme_f)"
   ]
  },
  {
   "cell_type": "code",
   "execution_count": 39,
   "metadata": {},
   "outputs": [
    {
     "data": {
      "text/plain": [
       "<matplotlib.axes._subplots.AxesSubplot at 0x7f62c849a1d0>"
      ]
     },
     "execution_count": 39,
     "metadata": {},
     "output_type": "execute_result"
    },
    {
     "data": {
      "image/png": "[encoded data removed]",
      "text/plain": [
       "<Figure size 1080x288 with 1 Axes>"
      ]
     },
     "metadata": {
      "needs_background": "light"
     },
     "output_type": "display_data"
    }
   ],
   "source": [
    "#print(pred_f)\n",
    "lol1 = pd.DataFrame(data=pred_f, columns=[\"num_orders\"])\n",
    "\n",
    "\n",
    "lol1.plot(figsize=(15,4))"
   ]
  },
  {
   "cell_type": "markdown",
   "metadata": {},
   "source": [
    "#### Вывод"
   ]
  },
  {
   "cell_type": "markdown",
   "metadata": {},
   "source": [
    "Целевого показателя RMSE удалось добиться через модель дерева решений в регрессии, соответственно его и следует использовать.\n",
    "\n",
    "В дата сете видим стабильно восходящий тернд заказа такси без сезонности, но с выбросами в мосент прилёта чартерных рейсов."
   ]
  },
  {
   "cell_type": "code",
   "execution_count": null,
   "metadata": {},
   "outputs": [],
   "source": []
  }
 ],
 "metadata": {
  "ExecuteTimeLog": [
   {
    "duration": 1272,
    "start_time": "2021-10-06T06:24:10.088Z"
   },
   {
    "duration": 36,
    "start_time": "2021-10-06T06:24:55.917Z"
   },
   {
    "duration": 19,
    "start_time": "2021-10-06T06:25:05.736Z"
   },
   {
    "duration": 10,
    "start_time": "2021-10-06T06:25:27.582Z"
   },
   {
    "duration": 12,
    "start_time": "2021-10-06T06:27:30.060Z"
   },
   {
    "duration": 13,
    "start_time": "2021-10-06T06:28:16.869Z"
   },
   {
    "duration": 8,
    "start_time": "2021-10-06T06:28:30.175Z"
   },
   {
    "duration": 6,
    "start_time": "2021-10-06T06:30:42.071Z"
   },
   {
    "duration": 4,
    "start_time": "2021-10-06T06:31:08.612Z"
   },
   {
    "duration": 1115,
    "start_time": "2021-10-06T06:31:33.631Z"
   },
   {
    "duration": 140,
    "start_time": "2021-10-06T06:33:48.335Z"
   },
   {
    "duration": 14,
    "start_time": "2021-10-06T06:35:11.413Z"
   },
   {
    "duration": 468,
    "start_time": "2021-10-06T06:42:24.000Z"
   },
   {
    "duration": 6,
    "start_time": "2021-10-06T06:45:38.928Z"
   },
   {
    "duration": 542,
    "start_time": "2021-10-06T06:45:52.198Z"
   },
   {
    "duration": 468,
    "start_time": "2021-10-06T06:47:07.799Z"
   },
   {
    "duration": 469,
    "start_time": "2021-10-06T06:47:20.579Z"
   },
   {
    "duration": 467,
    "start_time": "2021-10-06T06:47:34.311Z"
   },
   {
    "duration": 456,
    "start_time": "2021-10-06T06:47:41.577Z"
   },
   {
    "duration": 114,
    "start_time": "2021-10-06T06:50:00.697Z"
   },
   {
    "duration": 501,
    "start_time": "2021-10-06T06:51:04.719Z"
   },
   {
    "duration": 34,
    "start_time": "2021-10-06T06:51:29.314Z"
   },
   {
    "duration": 294,
    "start_time": "2021-10-06T06:51:43.151Z"
   },
   {
    "duration": 367,
    "start_time": "2021-10-06T06:52:02.947Z"
   },
   {
    "duration": 7,
    "start_time": "2021-10-06T06:53:02.145Z"
   },
   {
    "duration": 5,
    "start_time": "2021-10-06T06:54:57.049Z"
   },
   {
    "duration": 8,
    "start_time": "2021-10-06T06:55:21.658Z"
   },
   {
    "duration": 376,
    "start_time": "2021-10-06T06:56:02.193Z"
   },
   {
    "duration": 308,
    "start_time": "2021-10-06T06:56:10.199Z"
   },
   {
    "duration": 451,
    "start_time": "2021-10-06T06:56:19.225Z"
   },
   {
    "duration": 9,
    "start_time": "2021-10-06T07:00:58.004Z"
   },
   {
    "duration": 336,
    "start_time": "2021-10-06T07:00:59.457Z"
   },
   {
    "duration": 571,
    "start_time": "2021-10-06T07:01:03.920Z"
   },
   {
    "duration": 805,
    "start_time": "2021-10-06T07:01:29.952Z"
   },
   {
    "duration": 489,
    "start_time": "2021-10-06T07:01:42.137Z"
   },
   {
    "duration": 299,
    "start_time": "2021-10-06T07:01:55.073Z"
   },
   {
    "duration": 568,
    "start_time": "2021-10-06T07:02:00.152Z"
   },
   {
    "duration": 772,
    "start_time": "2021-10-06T07:02:11.513Z"
   },
   {
    "duration": 273,
    "start_time": "2021-10-06T07:04:19.641Z"
   },
   {
    "duration": 9,
    "start_time": "2021-10-06T07:04:34.144Z"
   },
   {
    "duration": 7,
    "start_time": "2021-10-06T07:04:42.177Z"
   },
   {
    "duration": 5,
    "start_time": "2021-10-06T07:05:17.003Z"
   },
   {
    "duration": 1642,
    "start_time": "2021-10-06T07:49:02.525Z"
   },
   {
    "duration": 41,
    "start_time": "2021-10-06T07:49:04.919Z"
   },
   {
    "duration": 17,
    "start_time": "2021-10-06T07:49:05.132Z"
   },
   {
    "duration": 12,
    "start_time": "2021-10-06T07:49:05.332Z"
   },
   {
    "duration": 20,
    "start_time": "2021-10-06T07:49:05.669Z"
   },
   {
    "duration": 12,
    "start_time": "2021-10-06T07:49:05.862Z"
   },
   {
    "duration": 13,
    "start_time": "2021-10-06T07:49:06.037Z"
   },
   {
    "duration": 7,
    "start_time": "2021-10-06T07:49:06.207Z"
   },
   {
    "duration": 8,
    "start_time": "2021-10-06T07:49:06.382Z"
   },
   {
    "duration": 17,
    "start_time": "2021-10-06T07:49:06.749Z"
   },
   {
    "duration": 542,
    "start_time": "2021-10-06T07:49:07.116Z"
   },
   {
    "duration": 458,
    "start_time": "2021-10-06T07:49:07.663Z"
   },
   {
    "duration": 477,
    "start_time": "2021-10-06T07:49:08.124Z"
   },
   {
    "duration": 5,
    "start_time": "2021-10-06T07:49:08.604Z"
   },
   {
    "duration": 13,
    "start_time": "2021-10-06T07:49:08.611Z"
   },
   {
    "duration": 541,
    "start_time": "2021-10-06T07:49:08.627Z"
   },
   {
    "duration": 9,
    "start_time": "2021-10-06T07:49:09.171Z"
   },
   {
    "duration": 493,
    "start_time": "2021-10-06T07:49:11.118Z"
   },
   {
    "duration": 640,
    "start_time": "2021-10-06T07:49:12.412Z"
   },
   {
    "duration": 651,
    "start_time": "2021-10-06T07:49:15.413Z"
   },
   {
    "duration": 7,
    "start_time": "2021-10-06T07:49:20.365Z"
   },
   {
    "duration": 18,
    "start_time": "2021-10-06T07:49:44.396Z"
   },
   {
    "duration": 18,
    "start_time": "2021-10-06T07:49:55.896Z"
   },
   {
    "duration": 28,
    "start_time": "2021-10-06T07:50:09.727Z"
   },
   {
    "duration": 17,
    "start_time": "2021-10-06T07:50:51.538Z"
   },
   {
    "duration": 14,
    "start_time": "2021-10-06T07:51:41.117Z"
   },
   {
    "duration": 9,
    "start_time": "2021-10-06T07:52:06.214Z"
   },
   {
    "duration": 4,
    "start_time": "2021-10-06T07:58:29.679Z"
   },
   {
    "duration": 20,
    "start_time": "2021-10-06T07:58:42.101Z"
   },
   {
    "duration": 7,
    "start_time": "2021-10-06T08:00:55.073Z"
   },
   {
    "duration": 7,
    "start_time": "2021-10-06T08:07:47.914Z"
   },
   {
    "duration": 7,
    "start_time": "2021-10-06T08:12:56.646Z"
   },
   {
    "duration": 452,
    "start_time": "2021-10-06T08:14:27.920Z"
   },
   {
    "duration": 8,
    "start_time": "2021-10-06T08:14:36.072Z"
   },
   {
    "duration": 8,
    "start_time": "2021-10-06T08:16:08.096Z"
   },
   {
    "duration": 26,
    "start_time": "2021-10-06T08:17:50.264Z"
   },
   {
    "duration": 29,
    "start_time": "2021-10-06T08:17:58.912Z"
   },
   {
    "duration": 8,
    "start_time": "2021-10-06T08:18:59.306Z"
   },
   {
    "duration": 27,
    "start_time": "2021-10-06T08:19:18.144Z"
   },
   {
    "duration": 8,
    "start_time": "2021-10-06T08:19:20.280Z"
   },
   {
    "duration": 7,
    "start_time": "2021-10-06T08:19:28.815Z"
   },
   {
    "duration": 16,
    "start_time": "2021-10-06T08:19:37.840Z"
   },
   {
    "duration": 8,
    "start_time": "2021-10-06T08:19:40.048Z"
   },
   {
    "duration": 16,
    "start_time": "2021-10-06T08:20:11.752Z"
   },
   {
    "duration": 8,
    "start_time": "2021-10-06T08:20:13.968Z"
   },
   {
    "duration": 24,
    "start_time": "2021-10-06T08:20:29.128Z"
   },
   {
    "duration": 7,
    "start_time": "2021-10-06T08:20:31.024Z"
   },
   {
    "duration": 26,
    "start_time": "2021-10-06T08:20:42.643Z"
   },
   {
    "duration": 7,
    "start_time": "2021-10-06T08:20:44.344Z"
   },
   {
    "duration": 30,
    "start_time": "2021-10-06T08:20:55.857Z"
   },
   {
    "duration": 8,
    "start_time": "2021-10-06T08:20:58.064Z"
   },
   {
    "duration": 33,
    "start_time": "2021-10-06T08:21:11.090Z"
   },
   {
    "duration": 8,
    "start_time": "2021-10-06T08:21:12.760Z"
   },
   {
    "duration": 34,
    "start_time": "2021-10-06T08:21:27.776Z"
   },
   {
    "duration": 10,
    "start_time": "2021-10-06T08:21:29.513Z"
   },
   {
    "duration": 38,
    "start_time": "2021-10-06T08:21:40.864Z"
   },
   {
    "duration": 8,
    "start_time": "2021-10-06T08:21:42.745Z"
   },
   {
    "duration": 35,
    "start_time": "2021-10-06T08:21:53.705Z"
   },
   {
    "duration": 8,
    "start_time": "2021-10-06T08:21:55.610Z"
   },
   {
    "duration": 38,
    "start_time": "2021-10-06T08:22:04.720Z"
   },
   {
    "duration": 8,
    "start_time": "2021-10-06T08:22:07.609Z"
   },
   {
    "duration": 22,
    "start_time": "2021-10-06T08:22:29.946Z"
   },
   {
    "duration": 9,
    "start_time": "2021-10-06T08:22:32.273Z"
   },
   {
    "duration": 24,
    "start_time": "2021-10-06T08:22:37.216Z"
   },
   {
    "duration": 8,
    "start_time": "2021-10-06T08:22:38.658Z"
   },
   {
    "duration": 28,
    "start_time": "2021-10-06T08:22:47.265Z"
   },
   {
    "duration": 8,
    "start_time": "2021-10-06T08:22:49.456Z"
   },
   {
    "duration": 30,
    "start_time": "2021-10-06T08:22:57.265Z"
   },
   {
    "duration": 8,
    "start_time": "2021-10-06T08:22:59.528Z"
   },
   {
    "duration": 33,
    "start_time": "2021-10-06T08:23:11.369Z"
   },
   {
    "duration": 9,
    "start_time": "2021-10-06T08:23:13.314Z"
   },
   {
    "duration": 35,
    "start_time": "2021-10-06T08:23:21.264Z"
   },
   {
    "duration": 9,
    "start_time": "2021-10-06T08:23:24.082Z"
   },
   {
    "duration": 35,
    "start_time": "2021-10-06T08:23:29.027Z"
   },
   {
    "duration": 8,
    "start_time": "2021-10-06T08:23:30.704Z"
   },
   {
    "duration": 33,
    "start_time": "2021-10-06T08:23:39.954Z"
   },
   {
    "duration": 8,
    "start_time": "2021-10-06T08:23:41.928Z"
   },
   {
    "duration": 5,
    "start_time": "2021-10-06T08:33:38.353Z"
   },
   {
    "duration": 6,
    "start_time": "2021-10-06T08:33:41.290Z"
   },
   {
    "duration": 7,
    "start_time": "2021-10-06T08:33:41.642Z"
   },
   {
    "duration": 16,
    "start_time": "2021-10-06T08:38:14.459Z"
   },
   {
    "duration": 696,
    "start_time": "2021-10-06T08:39:39.699Z"
   },
   {
    "duration": 15,
    "start_time": "2021-10-06T08:40:48.187Z"
   },
   {
    "duration": 285,
    "start_time": "2021-10-06T08:40:49.372Z"
   },
   {
    "duration": 6,
    "start_time": "2021-10-06T08:40:57.780Z"
   },
   {
    "duration": 381,
    "start_time": "2021-10-06T08:41:41.483Z"
   },
   {
    "duration": 12,
    "start_time": "2021-10-06T08:41:45.922Z"
   },
   {
    "duration": 6,
    "start_time": "2021-10-06T08:41:46.802Z"
   },
   {
    "duration": 492,
    "start_time": "2021-10-06T08:41:58.731Z"
   },
   {
    "duration": 13,
    "start_time": "2021-10-06T08:42:00.970Z"
   },
   {
    "duration": 5,
    "start_time": "2021-10-06T08:42:01.411Z"
   },
   {
    "duration": 952,
    "start_time": "2021-10-06T08:42:12.618Z"
   },
   {
    "duration": 14,
    "start_time": "2021-10-06T08:42:16.539Z"
   },
   {
    "duration": 5,
    "start_time": "2021-10-06T08:42:17.524Z"
   },
   {
    "duration": 929,
    "start_time": "2021-10-06T08:42:35.538Z"
   },
   {
    "duration": 16,
    "start_time": "2021-10-06T08:42:38.569Z"
   },
   {
    "duration": 5,
    "start_time": "2021-10-06T08:42:39.730Z"
   },
   {
    "duration": 1483,
    "start_time": "2021-10-07T05:28:37.534Z"
   },
   {
    "duration": 40,
    "start_time": "2021-10-07T05:28:39.709Z"
   },
   {
    "duration": 15,
    "start_time": "2021-10-07T05:28:39.925Z"
   },
   {
    "duration": 10,
    "start_time": "2021-10-07T05:28:40.253Z"
   },
   {
    "duration": 18,
    "start_time": "2021-10-07T05:28:42.925Z"
   },
   {
    "duration": 9,
    "start_time": "2021-10-07T05:28:43.356Z"
   },
   {
    "duration": 12,
    "start_time": "2021-10-07T05:28:43.932Z"
   },
   {
    "duration": 5,
    "start_time": "2021-10-07T05:28:44.405Z"
   },
   {
    "duration": 4,
    "start_time": "2021-10-07T05:28:44.668Z"
   },
   {
    "duration": 13,
    "start_time": "2021-10-07T05:28:46.942Z"
   },
   {
    "duration": 472,
    "start_time": "2021-10-07T05:28:55.828Z"
   },
   {
    "duration": 464,
    "start_time": "2021-10-07T05:29:03.611Z"
   },
   {
    "duration": 570,
    "start_time": "2021-10-07T05:31:47.420Z"
   },
   {
    "duration": 613,
    "start_time": "2021-10-07T05:31:58.374Z"
   },
   {
    "duration": 638,
    "start_time": "2021-10-07T05:32:04.725Z"
   },
   {
    "duration": 517,
    "start_time": "2021-10-07T05:32:16.623Z"
   },
   {
    "duration": 485,
    "start_time": "2021-10-07T05:32:30.023Z"
   },
   {
    "duration": 497,
    "start_time": "2021-10-07T05:32:35.623Z"
   },
   {
    "duration": 368,
    "start_time": "2021-10-07T05:32:43.869Z"
   },
   {
    "duration": 1481,
    "start_time": "2021-10-07T05:33:08.229Z"
   },
   {
    "duration": 40,
    "start_time": "2021-10-07T05:33:09.712Z"
   },
   {
    "duration": 14,
    "start_time": "2021-10-07T05:33:10.696Z"
   },
   {
    "duration": 12,
    "start_time": "2021-10-07T05:33:10.894Z"
   },
   {
    "duration": 18,
    "start_time": "2021-10-07T05:33:11.318Z"
   },
   {
    "duration": 9,
    "start_time": "2021-10-07T05:33:11.531Z"
   },
   {
    "duration": 12,
    "start_time": "2021-10-07T05:33:11.758Z"
   },
   {
    "duration": 6,
    "start_time": "2021-10-07T05:33:11.978Z"
   },
   {
    "duration": 5,
    "start_time": "2021-10-07T05:33:14.399Z"
   },
   {
    "duration": 14,
    "start_time": "2021-10-07T05:33:15.083Z"
   },
   {
    "duration": 518,
    "start_time": "2021-10-07T05:33:16.147Z"
   },
   {
    "duration": 481,
    "start_time": "2021-10-07T05:33:18.477Z"
   },
   {
    "duration": 524,
    "start_time": "2021-10-07T05:33:20.884Z"
   },
   {
    "duration": 117,
    "start_time": "2021-10-07T05:34:05.861Z"
   },
   {
    "duration": 5,
    "start_time": "2021-10-07T05:34:13.851Z"
   },
   {
    "duration": 10,
    "start_time": "2021-10-07T05:34:14.268Z"
   },
   {
    "duration": 940,
    "start_time": "2021-10-07T05:34:14.835Z"
   },
   {
    "duration": 490,
    "start_time": "2021-10-07T05:34:33.844Z"
   },
   {
    "duration": 437,
    "start_time": "2021-10-07T05:34:54.955Z"
   },
   {
    "duration": 523,
    "start_time": "2021-10-07T05:35:22.964Z"
   },
   {
    "duration": 9,
    "start_time": "2021-10-07T05:35:37.765Z"
   },
   {
    "duration": 438,
    "start_time": "2021-10-07T05:35:38.581Z"
   },
   {
    "duration": 449,
    "start_time": "2021-10-07T05:35:45.421Z"
   },
   {
    "duration": 515,
    "start_time": "2021-10-07T05:35:51.613Z"
   },
   {
    "duration": 602,
    "start_time": "2021-10-07T05:36:04.134Z"
   },
   {
    "duration": 624,
    "start_time": "2021-10-07T05:39:18.268Z"
   },
   {
    "duration": 462,
    "start_time": "2021-10-07T05:39:39.086Z"
   },
   {
    "duration": 504,
    "start_time": "2021-10-07T05:40:35.097Z"
   },
   {
    "duration": 709,
    "start_time": "2021-10-07T05:42:36.238Z"
   },
   {
    "duration": 561,
    "start_time": "2021-10-07T05:42:54.873Z"
   },
   {
    "duration": 6,
    "start_time": "2021-10-07T05:44:04.006Z"
   },
   {
    "duration": 21,
    "start_time": "2021-10-07T05:44:12.053Z"
   },
   {
    "duration": 368,
    "start_time": "2021-10-07T05:44:30.285Z"
   },
   {
    "duration": 5,
    "start_time": "2021-10-07T05:45:00.423Z"
   },
   {
    "duration": 349,
    "start_time": "2021-10-07T05:45:02.011Z"
   },
   {
    "duration": 1515,
    "start_time": "2021-10-07T05:45:21.331Z"
   },
   {
    "duration": 41,
    "start_time": "2021-10-07T05:45:23.490Z"
   },
   {
    "duration": 15,
    "start_time": "2021-10-07T05:45:23.675Z"
   },
   {
    "duration": 11,
    "start_time": "2021-10-07T05:45:23.847Z"
   },
   {
    "duration": 18,
    "start_time": "2021-10-07T05:45:24.191Z"
   },
   {
    "duration": 9,
    "start_time": "2021-10-07T05:45:24.371Z"
   },
   {
    "duration": 13,
    "start_time": "2021-10-07T05:45:24.566Z"
   },
   {
    "duration": 5,
    "start_time": "2021-10-07T05:45:24.743Z"
   },
   {
    "duration": 4,
    "start_time": "2021-10-07T05:45:24.907Z"
   },
   {
    "duration": 13,
    "start_time": "2021-10-07T05:45:25.267Z"
   },
   {
    "duration": 520,
    "start_time": "2021-10-07T05:45:25.834Z"
   },
   {
    "duration": 518,
    "start_time": "2021-10-07T05:45:26.358Z"
   },
   {
    "duration": 541,
    "start_time": "2021-10-07T05:45:26.878Z"
   },
   {
    "duration": 4,
    "start_time": "2021-10-07T05:45:27.422Z"
   },
   {
    "duration": 10,
    "start_time": "2021-10-07T05:45:27.429Z"
   },
   {
    "duration": 486,
    "start_time": "2021-10-07T05:45:27.508Z"
   },
   {
    "duration": 11,
    "start_time": "2021-10-07T05:45:28.371Z"
   },
   {
    "duration": 582,
    "start_time": "2021-10-07T05:45:29.083Z"
   },
   {
    "duration": 575,
    "start_time": "2021-10-07T05:45:31.524Z"
   },
   {
    "duration": 407,
    "start_time": "2021-10-07T05:45:32.684Z"
   },
   {
    "duration": 537,
    "start_time": "2021-10-07T05:45:33.244Z"
   },
   {
    "duration": 6,
    "start_time": "2021-10-07T05:45:37.987Z"
   },
   {
    "duration": 35,
    "start_time": "2021-10-07T05:45:45.964Z"
   },
   {
    "duration": 463,
    "start_time": "2021-10-07T05:45:52.897Z"
   },
   {
    "duration": 1515,
    "start_time": "2021-10-07T05:50:03.419Z"
   },
   {
    "duration": 40,
    "start_time": "2021-10-07T05:50:04.937Z"
   },
   {
    "duration": 15,
    "start_time": "2021-10-07T05:50:04.980Z"
   },
   {
    "duration": 36,
    "start_time": "2021-10-07T05:50:04.998Z"
   },
   {
    "duration": 34,
    "start_time": "2021-10-07T05:50:05.036Z"
   },
   {
    "duration": 16,
    "start_time": "2021-10-07T05:50:05.072Z"
   },
   {
    "duration": 34,
    "start_time": "2021-10-07T05:50:05.090Z"
   },
   {
    "duration": 20,
    "start_time": "2021-10-07T05:50:05.126Z"
   },
   {
    "duration": 6,
    "start_time": "2021-10-07T05:50:05.199Z"
   },
   {
    "duration": 13,
    "start_time": "2021-10-07T05:50:05.577Z"
   },
   {
    "duration": 540,
    "start_time": "2021-10-07T05:50:06.143Z"
   },
   {
    "duration": 515,
    "start_time": "2021-10-07T05:50:06.686Z"
   },
   {
    "duration": 543,
    "start_time": "2021-10-07T05:50:07.204Z"
   },
   {
    "duration": 11,
    "start_time": "2021-10-07T05:50:07.750Z"
   },
   {
    "duration": 14,
    "start_time": "2021-10-07T05:50:07.764Z"
   },
   {
    "duration": 531,
    "start_time": "2021-10-07T05:50:07.855Z"
   },
   {
    "duration": 8,
    "start_time": "2021-10-07T05:50:08.390Z"
   },
   {
    "duration": 608,
    "start_time": "2021-10-07T05:50:08.406Z"
   },
   {
    "duration": 639,
    "start_time": "2021-10-07T05:50:09.018Z"
   },
   {
    "duration": 467,
    "start_time": "2021-10-07T05:50:09.849Z"
   },
   {
    "duration": 536,
    "start_time": "2021-10-07T05:50:12.954Z"
   },
   {
    "duration": 6,
    "start_time": "2021-10-07T05:50:18.724Z"
   },
   {
    "duration": 495,
    "start_time": "2021-10-07T05:50:22.886Z"
   },
   {
    "duration": 12,
    "start_time": "2021-10-07T05:51:26.217Z"
   },
   {
    "duration": 26,
    "start_time": "2021-10-07T05:51:30.321Z"
   },
   {
    "duration": 18,
    "start_time": "2021-10-07T05:51:35.376Z"
   },
   {
    "duration": 28,
    "start_time": "2021-10-07T05:51:47.432Z"
   },
   {
    "duration": 30,
    "start_time": "2021-10-07T05:52:00.856Z"
   },
   {
    "duration": 1486,
    "start_time": "2021-10-07T05:52:11.434Z"
   },
   {
    "duration": 39,
    "start_time": "2021-10-07T05:52:12.922Z"
   },
   {
    "duration": 13,
    "start_time": "2021-10-07T05:52:12.964Z"
   },
   {
    "duration": 10,
    "start_time": "2021-10-07T05:52:12.980Z"
   },
   {
    "duration": 17,
    "start_time": "2021-10-07T05:52:12.992Z"
   },
   {
    "duration": 8,
    "start_time": "2021-10-07T05:52:13.012Z"
   },
   {
    "duration": 46,
    "start_time": "2021-10-07T05:52:13.022Z"
   },
   {
    "duration": 8,
    "start_time": "2021-10-07T05:52:13.070Z"
   },
   {
    "duration": 4,
    "start_time": "2021-10-07T05:52:13.082Z"
   },
   {
    "duration": 14,
    "start_time": "2021-10-07T05:52:13.089Z"
   },
   {
    "duration": 508,
    "start_time": "2021-10-07T05:52:13.326Z"
   },
   {
    "duration": 514,
    "start_time": "2021-10-07T05:52:13.837Z"
   },
   {
    "duration": 541,
    "start_time": "2021-10-07T05:52:14.359Z"
   },
   {
    "duration": 4,
    "start_time": "2021-10-07T05:52:14.903Z"
   },
   {
    "duration": 21,
    "start_time": "2021-10-07T05:52:14.910Z"
   },
   {
    "duration": 505,
    "start_time": "2021-10-07T05:52:15.023Z"
   },
   {
    "duration": 9,
    "start_time": "2021-10-07T05:52:15.531Z"
   },
   {
    "duration": 571,
    "start_time": "2021-10-07T05:52:15.602Z"
   },
   {
    "duration": 609,
    "start_time": "2021-10-07T05:52:16.175Z"
   },
   {
    "duration": 411,
    "start_time": "2021-10-07T05:52:16.788Z"
   },
   {
    "duration": 546,
    "start_time": "2021-10-07T05:52:17.202Z"
   },
   {
    "duration": 6,
    "start_time": "2021-10-07T05:52:20.645Z"
   },
   {
    "duration": 33,
    "start_time": "2021-10-07T05:52:21.951Z"
   },
   {
    "duration": 29,
    "start_time": "2021-10-07T05:52:50.590Z"
   },
   {
    "duration": 13,
    "start_time": "2021-10-07T05:53:08.718Z"
   },
   {
    "duration": 17,
    "start_time": "2021-10-07T05:53:18.358Z"
   },
   {
    "duration": 1513,
    "start_time": "2021-10-07T05:53:28.414Z"
   },
   {
    "duration": 40,
    "start_time": "2021-10-07T05:53:29.929Z"
   },
   {
    "duration": 14,
    "start_time": "2021-10-07T05:53:29.972Z"
   },
   {
    "duration": 12,
    "start_time": "2021-10-07T05:53:29.988Z"
   },
   {
    "duration": 30,
    "start_time": "2021-10-07T05:53:30.003Z"
   },
   {
    "duration": 25,
    "start_time": "2021-10-07T05:53:30.036Z"
   },
   {
    "duration": 15,
    "start_time": "2021-10-07T05:53:30.066Z"
   },
   {
    "duration": 8,
    "start_time": "2021-10-07T05:53:30.084Z"
   },
   {
    "duration": 5,
    "start_time": "2021-10-07T05:53:30.186Z"
   },
   {
    "duration": 15,
    "start_time": "2021-10-07T05:53:30.554Z"
   },
   {
    "duration": 537,
    "start_time": "2021-10-07T05:53:31.112Z"
   },
   {
    "duration": 513,
    "start_time": "2021-10-07T05:53:31.652Z"
   },
   {
    "duration": 563,
    "start_time": "2021-10-07T05:53:32.168Z"
   },
   {
    "duration": 5,
    "start_time": "2021-10-07T05:53:36.523Z"
   },
   {
    "duration": 11,
    "start_time": "2021-10-07T05:53:36.688Z"
   },
   {
    "duration": 526,
    "start_time": "2021-10-07T05:53:36.862Z"
   },
   {
    "duration": 13,
    "start_time": "2021-10-07T05:53:37.391Z"
   },
   {
    "duration": 602,
    "start_time": "2021-10-07T05:53:37.415Z"
   },
   {
    "duration": 599,
    "start_time": "2021-10-07T05:53:38.020Z"
   },
   {
    "duration": 422,
    "start_time": "2021-10-07T05:53:38.623Z"
   },
   {
    "duration": 545,
    "start_time": "2021-10-07T05:53:39.048Z"
   },
   {
    "duration": 9,
    "start_time": "2021-10-07T05:53:43.115Z"
   },
   {
    "duration": 6,
    "start_time": "2021-10-07T05:54:39.616Z"
   },
   {
    "duration": 9,
    "start_time": "2021-10-07T05:54:41.441Z"
   },
   {
    "duration": 17,
    "start_time": "2021-10-07T05:54:59.071Z"
   },
   {
    "duration": 17,
    "start_time": "2021-10-07T05:55:02.191Z"
   },
   {
    "duration": 1546,
    "start_time": "2021-10-07T05:57:25.078Z"
   },
   {
    "duration": 41,
    "start_time": "2021-10-07T05:57:26.626Z"
   },
   {
    "duration": 14,
    "start_time": "2021-10-07T05:57:26.669Z"
   },
   {
    "duration": 17,
    "start_time": "2021-10-07T05:57:26.685Z"
   },
   {
    "duration": 16,
    "start_time": "2021-10-07T05:57:27.979Z"
   },
   {
    "duration": 9,
    "start_time": "2021-10-07T05:57:28.145Z"
   },
   {
    "duration": 13,
    "start_time": "2021-10-07T05:57:28.591Z"
   },
   {
    "duration": 5,
    "start_time": "2021-10-07T05:57:28.788Z"
   },
   {
    "duration": 4,
    "start_time": "2021-10-07T05:57:28.953Z"
   },
   {
    "duration": 13,
    "start_time": "2021-10-07T05:57:29.326Z"
   },
   {
    "duration": 528,
    "start_time": "2021-10-07T05:57:29.879Z"
   },
   {
    "duration": 606,
    "start_time": "2021-10-07T05:57:30.410Z"
   },
   {
    "duration": 530,
    "start_time": "2021-10-07T05:57:31.019Z"
   },
   {
    "duration": 6,
    "start_time": "2021-10-07T05:57:31.551Z"
   },
   {
    "duration": 9,
    "start_time": "2021-10-07T05:57:31.623Z"
   },
   {
    "duration": 475,
    "start_time": "2021-10-07T05:57:31.982Z"
   },
   {
    "duration": 9,
    "start_time": "2021-10-07T05:57:32.460Z"
   },
   {
    "duration": 558,
    "start_time": "2021-10-07T05:57:32.623Z"
   },
   {
    "duration": 595,
    "start_time": "2021-10-07T05:57:33.184Z"
   },
   {
    "duration": 512,
    "start_time": "2021-10-07T05:57:35.135Z"
   },
   {
    "duration": 532,
    "start_time": "2021-10-07T05:57:37.686Z"
   },
   {
    "duration": 9,
    "start_time": "2021-10-07T05:57:41.167Z"
   },
   {
    "duration": 5,
    "start_time": "2021-10-07T05:57:43.766Z"
   },
   {
    "duration": 21,
    "start_time": "2021-10-07T05:57:48.385Z"
   },
   {
    "duration": 17,
    "start_time": "2021-10-07T05:57:50.767Z"
   },
   {
    "duration": 2006,
    "start_time": "2021-10-07T05:59:22.127Z"
   },
   {
    "duration": 53,
    "start_time": "2021-10-07T05:59:24.137Z"
   },
   {
    "duration": 19,
    "start_time": "2021-10-07T05:59:24.194Z"
   },
   {
    "duration": 14,
    "start_time": "2021-10-07T05:59:24.217Z"
   },
   {
    "duration": 39,
    "start_time": "2021-10-07T05:59:24.234Z"
   },
   {
    "duration": 10,
    "start_time": "2021-10-07T05:59:24.275Z"
   },
   {
    "duration": 13,
    "start_time": "2021-10-07T05:59:24.287Z"
   },
   {
    "duration": 6,
    "start_time": "2021-10-07T05:59:24.305Z"
   },
   {
    "duration": 5,
    "start_time": "2021-10-07T05:59:24.357Z"
   },
   {
    "duration": 19,
    "start_time": "2021-10-07T05:59:24.365Z"
   },
   {
    "duration": 790,
    "start_time": "2021-10-07T05:59:24.784Z"
   },
   {
    "duration": 732,
    "start_time": "2021-10-07T05:59:25.578Z"
   },
   {
    "duration": 632,
    "start_time": "2021-10-07T05:59:26.313Z"
   },
   {
    "duration": 11,
    "start_time": "2021-10-07T05:59:26.947Z"
   },
   {
    "duration": 18,
    "start_time": "2021-10-07T05:59:26.960Z"
   },
   {
    "duration": 599,
    "start_time": "2021-10-07T05:59:26.981Z"
   },
   {
    "duration": 8,
    "start_time": "2021-10-07T05:59:27.582Z"
   },
   {
    "duration": 604,
    "start_time": "2021-10-07T05:59:27.593Z"
   },
   {
    "duration": 617,
    "start_time": "2021-10-07T05:59:28.199Z"
   },
   {
    "duration": 441,
    "start_time": "2021-10-07T05:59:28.819Z"
   },
   {
    "duration": 546,
    "start_time": "2021-10-07T05:59:29.263Z"
   },
   {
    "duration": 9,
    "start_time": "2021-10-07T05:59:35.082Z"
   },
   {
    "duration": 6,
    "start_time": "2021-10-07T05:59:37.087Z"
   },
   {
    "duration": 38,
    "start_time": "2021-10-07T05:59:39.408Z"
   },
   {
    "duration": 17,
    "start_time": "2021-10-07T05:59:43.009Z"
   },
   {
    "duration": 1486,
    "start_time": "2021-10-07T06:02:27.000Z"
   },
   {
    "duration": 43,
    "start_time": "2021-10-07T06:02:29.266Z"
   },
   {
    "duration": 16,
    "start_time": "2021-10-07T06:02:29.428Z"
   },
   {
    "duration": 12,
    "start_time": "2021-10-07T06:02:29.592Z"
   },
   {
    "duration": 19,
    "start_time": "2021-10-07T06:02:29.936Z"
   },
   {
    "duration": 11,
    "start_time": "2021-10-07T06:02:30.128Z"
   },
   {
    "duration": 14,
    "start_time": "2021-10-07T06:02:30.308Z"
   },
   {
    "duration": 5,
    "start_time": "2021-10-07T06:02:30.480Z"
   },
   {
    "duration": 5,
    "start_time": "2021-10-07T06:02:30.658Z"
   },
   {
    "duration": 16,
    "start_time": "2021-10-07T06:02:31.017Z"
   },
   {
    "duration": 540,
    "start_time": "2021-10-07T06:02:31.587Z"
   },
   {
    "duration": 504,
    "start_time": "2021-10-07T06:02:32.131Z"
   },
   {
    "duration": 542,
    "start_time": "2021-10-07T06:02:32.638Z"
   },
   {
    "duration": 6,
    "start_time": "2021-10-07T06:02:33.183Z"
   },
   {
    "duration": 27,
    "start_time": "2021-10-07T06:02:33.193Z"
   },
   {
    "duration": 520,
    "start_time": "2021-10-07T06:02:33.226Z"
   },
   {
    "duration": 14,
    "start_time": "2021-10-07T06:02:33.749Z"
   },
   {
    "duration": 572,
    "start_time": "2021-10-07T06:02:33.801Z"
   },
   {
    "duration": 607,
    "start_time": "2021-10-07T06:02:34.376Z"
   },
   {
    "duration": 432,
    "start_time": "2021-10-07T06:02:34.986Z"
   },
   {
    "duration": 538,
    "start_time": "2021-10-07T06:02:40.090Z"
   },
   {
    "duration": 10,
    "start_time": "2021-10-07T06:02:45.682Z"
   },
   {
    "duration": 6,
    "start_time": "2021-10-07T06:02:47.218Z"
   },
   {
    "duration": 36,
    "start_time": "2021-10-07T06:02:50.691Z"
   },
   {
    "duration": 18,
    "start_time": "2021-10-07T06:02:53.506Z"
   },
   {
    "duration": 6,
    "start_time": "2021-10-07T06:06:03.338Z"
   },
   {
    "duration": 6,
    "start_time": "2021-10-07T06:06:16.121Z"
   },
   {
    "duration": 7,
    "start_time": "2021-10-07T06:06:28.001Z"
   },
   {
    "duration": 7,
    "start_time": "2021-10-07T06:24:21.922Z"
   },
   {
    "duration": 7,
    "start_time": "2021-10-07T06:24:23.012Z"
   },
   {
    "duration": 34,
    "start_time": "2021-10-07T06:24:24.026Z"
   },
   {
    "duration": 896,
    "start_time": "2021-10-07T06:24:25.435Z"
   },
   {
    "duration": 7,
    "start_time": "2021-10-07T06:25:59.516Z"
   },
   {
    "duration": 8,
    "start_time": "2021-10-07T06:26:00.426Z"
   },
   {
    "duration": 16,
    "start_time": "2021-10-07T06:26:01.100Z"
   },
   {
    "duration": 5,
    "start_time": "2021-10-07T06:26:01.531Z"
   },
   {
    "duration": 74874,
    "start_time": "2021-10-07T06:27:34.197Z"
   },
   {
    "duration": 408,
    "start_time": "2021-10-07T06:29:14.611Z"
   },
   {
    "duration": 10,
    "start_time": "2021-10-07T06:29:18.172Z"
   },
   {
    "duration": 5,
    "start_time": "2021-10-07T06:29:19.086Z"
   },
   {
    "duration": 74218,
    "start_time": "2021-10-07T06:50:12.575Z"
   },
   {
    "duration": 486,
    "start_time": "2021-10-07T07:18:53.684Z"
   },
   {
    "duration": 13,
    "start_time": "2021-10-07T07:19:08.738Z"
   },
   {
    "duration": 459,
    "start_time": "2021-10-07T07:20:22.473Z"
   },
   {
    "duration": 109,
    "start_time": "2021-10-07T07:22:12.037Z"
   },
   {
    "duration": 4,
    "start_time": "2021-10-07T07:22:17.592Z"
   },
   {
    "duration": 9,
    "start_time": "2021-10-07T07:22:41.171Z"
   },
   {
    "duration": 311,
    "start_time": "2021-10-07T07:22:59.546Z"
   },
   {
    "duration": 301,
    "start_time": "2021-10-07T07:23:09.571Z"
   },
   {
    "duration": 2053,
    "start_time": "2021-10-08T07:30:18.775Z"
   },
   {
    "duration": 52,
    "start_time": "2021-10-08T07:30:20.831Z"
   },
   {
    "duration": 22,
    "start_time": "2021-10-08T07:30:20.886Z"
   },
   {
    "duration": 12,
    "start_time": "2021-10-08T07:30:20.911Z"
   },
   {
    "duration": 19,
    "start_time": "2021-10-08T07:30:21.454Z"
   },
   {
    "duration": 9,
    "start_time": "2021-10-08T07:30:21.830Z"
   },
   {
    "duration": 14,
    "start_time": "2021-10-08T07:30:22.004Z"
   },
   {
    "duration": 5,
    "start_time": "2021-10-08T07:30:22.188Z"
   },
   {
    "duration": 5,
    "start_time": "2021-10-08T07:30:22.381Z"
   },
   {
    "duration": 15,
    "start_time": "2021-10-08T07:30:22.744Z"
   },
   {
    "duration": 520,
    "start_time": "2021-10-08T07:30:26.141Z"
   },
   {
    "duration": 504,
    "start_time": "2021-10-08T07:30:26.664Z"
   },
   {
    "duration": 511,
    "start_time": "2021-10-08T07:30:32.189Z"
   },
   {
    "duration": 5,
    "start_time": "2021-10-08T07:30:32.702Z"
   },
   {
    "duration": 15,
    "start_time": "2021-10-08T07:30:32.710Z"
   },
   {
    "duration": 517,
    "start_time": "2021-10-08T07:30:32.727Z"
   },
   {
    "duration": 8,
    "start_time": "2021-10-08T07:30:34.784Z"
   },
   {
    "duration": 577,
    "start_time": "2021-10-08T07:30:34.976Z"
   },
   {
    "duration": 607,
    "start_time": "2021-10-08T07:30:35.555Z"
   },
   {
    "duration": 419,
    "start_time": "2021-10-08T07:30:36.165Z"
   },
   {
    "duration": 540,
    "start_time": "2021-10-08T07:30:37.997Z"
   },
   {
    "duration": 10,
    "start_time": "2021-10-08T07:30:43.637Z"
   },
   {
    "duration": 6,
    "start_time": "2021-10-08T07:31:42.646Z"
   },
   {
    "duration": 35,
    "start_time": "2021-10-08T07:32:17.679Z"
   },
   {
    "duration": 9,
    "start_time": "2021-10-08T07:32:22.974Z"
   },
   {
    "duration": 556,
    "start_time": "2021-10-08T07:32:38.935Z"
   },
   {
    "duration": 24,
    "start_time": "2021-10-08T07:32:59.382Z"
   },
   {
    "duration": 47,
    "start_time": "2021-10-08T07:33:03.590Z"
   },
   {
    "duration": 51,
    "start_time": "2021-10-08T07:33:10.848Z"
   },
   {
    "duration": 12,
    "start_time": "2021-10-08T07:33:14.359Z"
   },
   {
    "duration": 35,
    "start_time": "2021-10-08T07:34:55.415Z"
   },
   {
    "duration": 7,
    "start_time": "2021-10-08T07:34:57.645Z"
   },
   {
    "duration": 7,
    "start_time": "2021-10-08T07:34:58.926Z"
   },
   {
    "duration": 5,
    "start_time": "2021-10-08T07:36:56.454Z"
   },
   {
    "duration": 3,
    "start_time": "2021-10-08T07:40:44.752Z"
   },
   {
    "duration": 305,
    "start_time": "2021-10-08T07:46:45.624Z"
   },
   {
    "duration": 277,
    "start_time": "2021-10-08T07:48:17.769Z"
   },
   {
    "duration": 259,
    "start_time": "2021-10-08T07:49:38.465Z"
   },
   {
    "duration": 97,
    "start_time": "2021-10-08T07:51:34.612Z"
   },
   {
    "duration": 177,
    "start_time": "2021-10-08T07:53:40.072Z"
   },
   {
    "duration": 1125,
    "start_time": "2021-10-08T07:54:14.568Z"
   },
   {
    "duration": 291,
    "start_time": "2021-10-08T07:55:18.833Z"
   },
   {
    "duration": 17,
    "start_time": "2021-10-08T08:46:33.950Z"
   },
   {
    "duration": 14,
    "start_time": "2021-10-08T08:47:32.205Z"
   },
   {
    "duration": 21,
    "start_time": "2021-10-08T08:48:07.995Z"
   },
   {
    "duration": 21,
    "start_time": "2021-10-08T08:49:58.876Z"
   },
   {
    "duration": 21,
    "start_time": "2021-10-08T08:50:10.711Z"
   },
   {
    "duration": 22,
    "start_time": "2021-10-08T08:54:53.860Z"
   },
   {
    "duration": 22,
    "start_time": "2021-10-08T08:54:58.989Z"
   },
   {
    "duration": 18,
    "start_time": "2021-10-08T08:55:03.213Z"
   },
   {
    "duration": 18,
    "start_time": "2021-10-08T08:55:36.371Z"
   },
   {
    "duration": 18,
    "start_time": "2021-10-08T08:56:46.997Z"
   },
   {
    "duration": 7,
    "start_time": "2021-10-08T08:57:25.429Z"
   },
   {
    "duration": 280,
    "start_time": "2021-10-08T08:57:39.661Z"
   },
   {
    "duration": 4,
    "start_time": "2021-10-08T08:57:58.364Z"
   },
   {
    "duration": 36,
    "start_time": "2021-10-08T09:00:32.374Z"
   },
   {
    "duration": 7,
    "start_time": "2021-10-08T09:01:23.653Z"
   },
   {
    "duration": 5,
    "start_time": "2021-10-08T09:01:33.766Z"
   },
   {
    "duration": 37,
    "start_time": "2021-10-08T09:01:52.870Z"
   },
   {
    "duration": 6,
    "start_time": "2021-10-08T09:01:58.132Z"
   },
   {
    "duration": 5,
    "start_time": "2021-10-08T09:02:00.830Z"
   },
   {
    "duration": 35,
    "start_time": "2021-10-08T09:02:07.487Z"
   },
   {
    "duration": 7,
    "start_time": "2021-10-08T09:02:12.742Z"
   },
   {
    "duration": 5,
    "start_time": "2021-10-08T09:02:14.525Z"
   },
   {
    "duration": 270,
    "start_time": "2021-10-08T09:02:56.941Z"
   },
   {
    "duration": 409,
    "start_time": "2021-10-08T09:03:03.230Z"
   },
   {
    "duration": 10,
    "start_time": "2021-10-08T09:03:07.189Z"
   },
   {
    "duration": 4,
    "start_time": "2021-10-08T09:03:09.789Z"
   },
   {
    "duration": 1508,
    "start_time": "2021-10-08T09:03:48.888Z"
   },
   {
    "duration": 41,
    "start_time": "2021-10-08T09:03:51.007Z"
   },
   {
    "duration": 15,
    "start_time": "2021-10-08T09:03:51.190Z"
   },
   {
    "duration": 10,
    "start_time": "2021-10-08T09:03:51.382Z"
   },
   {
    "duration": 18,
    "start_time": "2021-10-08T09:03:51.740Z"
   },
   {
    "duration": 10,
    "start_time": "2021-10-08T09:03:51.911Z"
   },
   {
    "duration": 13,
    "start_time": "2021-10-08T09:03:52.086Z"
   },
   {
    "duration": 6,
    "start_time": "2021-10-08T09:03:52.256Z"
   },
   {
    "duration": 4,
    "start_time": "2021-10-08T09:03:52.446Z"
   },
   {
    "duration": 13,
    "start_time": "2021-10-08T09:03:52.782Z"
   },
   {
    "duration": 547,
    "start_time": "2021-10-08T09:03:53.301Z"
   },
   {
    "duration": 517,
    "start_time": "2021-10-08T09:03:53.850Z"
   },
   {
    "duration": 539,
    "start_time": "2021-10-08T09:03:54.370Z"
   },
   {
    "duration": 5,
    "start_time": "2021-10-08T09:03:54.911Z"
   },
   {
    "duration": 12,
    "start_time": "2021-10-08T09:03:54.918Z"
   },
   {
    "duration": 503,
    "start_time": "2021-10-08T09:03:55.061Z"
   },
   {
    "duration": 9,
    "start_time": "2021-10-08T09:03:55.567Z"
   },
   {
    "duration": 634,
    "start_time": "2021-10-08T09:03:55.589Z"
   },
   {
    "duration": 683,
    "start_time": "2021-10-08T09:03:56.225Z"
   },
   {
    "duration": 496,
    "start_time": "2021-10-08T09:03:56.911Z"
   },
   {
    "duration": 554,
    "start_time": "2021-10-08T09:03:57.699Z"
   },
   {
    "duration": 11,
    "start_time": "2021-10-08T09:03:58.257Z"
   },
   {
    "duration": 29,
    "start_time": "2021-10-08T09:03:58.272Z"
   },
   {
    "duration": 35,
    "start_time": "2021-10-08T09:03:58.789Z"
   },
   {
    "duration": 6,
    "start_time": "2021-10-08T09:04:00.502Z"
   },
   {
    "duration": 7,
    "start_time": "2021-10-08T09:04:00.857Z"
   },
   {
    "duration": 19,
    "start_time": "2021-10-08T09:04:01.222Z"
   },
   {
    "duration": 36,
    "start_time": "2021-10-08T09:04:01.598Z"
   },
   {
    "duration": 79333,
    "start_time": "2021-10-08T09:04:03.909Z"
   },
   {
    "duration": 36,
    "start_time": "2021-10-08T09:07:09.551Z"
   },
   {
    "duration": 6,
    "start_time": "2021-10-08T09:08:04.070Z"
   },
   {
    "duration": 6,
    "start_time": "2021-10-08T09:08:05.086Z"
   },
   {
    "duration": 7,
    "start_time": "2021-10-08T09:08:06.125Z"
   },
   {
    "duration": 6,
    "start_time": "2021-10-08T09:08:07.662Z"
   },
   {
    "duration": 39,
    "start_time": "2021-10-08T09:08:57.289Z"
   },
   {
    "duration": 7,
    "start_time": "2021-10-08T09:09:00.165Z"
   },
   {
    "duration": 6,
    "start_time": "2021-10-08T09:09:01.735Z"
   },
   {
    "duration": 36,
    "start_time": "2021-10-08T09:09:09.582Z"
   },
   {
    "duration": 6,
    "start_time": "2021-10-08T09:09:12.542Z"
   },
   {
    "duration": 6,
    "start_time": "2021-10-08T09:09:12.886Z"
   },
   {
    "duration": 276,
    "start_time": "2021-10-08T09:09:22.423Z"
   },
   {
    "duration": 362,
    "start_time": "2021-10-08T09:09:47.375Z"
   },
   {
    "duration": 1157,
    "start_time": "2021-10-11T10:26:34.219Z"
   },
   {
    "duration": 31,
    "start_time": "2021-10-11T10:26:35.378Z"
   },
   {
    "duration": 13,
    "start_time": "2021-10-11T10:26:37.001Z"
   },
   {
    "duration": 8,
    "start_time": "2021-10-11T10:26:37.016Z"
   },
   {
    "duration": 11,
    "start_time": "2021-10-11T10:26:37.932Z"
   },
   {
    "duration": 7,
    "start_time": "2021-10-11T10:26:38.107Z"
   },
   {
    "duration": 9,
    "start_time": "2021-10-11T10:26:38.283Z"
   },
   {
    "duration": 3,
    "start_time": "2021-10-11T10:26:38.460Z"
   },
   {
    "duration": 3,
    "start_time": "2021-10-11T10:26:38.637Z"
   },
   {
    "duration": 9,
    "start_time": "2021-10-11T10:26:38.988Z"
   },
   {
    "duration": 310,
    "start_time": "2021-10-11T10:26:39.684Z"
   },
   {
    "duration": 287,
    "start_time": "2021-10-11T10:26:40.095Z"
   },
   {
    "duration": 314,
    "start_time": "2021-10-11T10:26:40.384Z"
   },
   {
    "duration": 4,
    "start_time": "2021-10-11T10:26:41.308Z"
   },
   {
    "duration": 6,
    "start_time": "2021-10-11T10:26:41.508Z"
   },
   {
    "duration": 295,
    "start_time": "2021-10-11T10:26:43.053Z"
   },
   {
    "duration": 5,
    "start_time": "2021-10-11T10:26:43.916Z"
   },
   {
    "duration": 343,
    "start_time": "2021-10-11T10:26:45.186Z"
   },
   {
    "duration": 357,
    "start_time": "2021-10-11T10:26:46.803Z"
   },
   {
    "duration": 240,
    "start_time": "2021-10-11T10:26:48.762Z"
   },
   {
    "duration": 334,
    "start_time": "2021-10-11T10:26:51.636Z"
   },
   {
    "duration": 6,
    "start_time": "2021-10-11T10:26:56.195Z"
   },
   {
    "duration": 4,
    "start_time": "2021-10-11T10:26:56.810Z"
   },
   {
    "duration": 22,
    "start_time": "2021-10-11T10:27:01.085Z"
   },
   {
    "duration": 5,
    "start_time": "2021-10-11T10:27:09.259Z"
   },
   {
    "duration": 3,
    "start_time": "2021-10-11T10:28:55.060Z"
   },
   {
    "duration": 7,
    "start_time": "2021-10-11T10:32:55.550Z"
   },
   {
    "duration": 88,
    "start_time": "2021-10-11T10:34:01.917Z"
   },
   {
    "duration": 5,
    "start_time": "2021-10-11T10:36:09.414Z"
   },
   {
    "duration": 1160,
    "start_time": "2021-10-11T10:38:21.619Z"
   },
   {
    "duration": 33,
    "start_time": "2021-10-11T10:38:23.395Z"
   },
   {
    "duration": 10,
    "start_time": "2021-10-11T10:38:23.571Z"
   },
   {
    "duration": 9,
    "start_time": "2021-10-11T10:38:23.754Z"
   },
   {
    "duration": 13,
    "start_time": "2021-10-11T10:38:24.138Z"
   },
   {
    "duration": 6,
    "start_time": "2021-10-11T10:38:24.324Z"
   },
   {
    "duration": 9,
    "start_time": "2021-10-11T10:38:24.515Z"
   },
   {
    "duration": 4,
    "start_time": "2021-10-11T10:38:24.705Z"
   },
   {
    "duration": 3,
    "start_time": "2021-10-11T10:38:24.873Z"
   },
   {
    "duration": 12,
    "start_time": "2021-10-11T10:38:25.259Z"
   },
   {
    "duration": 322,
    "start_time": "2021-10-11T10:38:25.826Z"
   },
   {
    "duration": 289,
    "start_time": "2021-10-11T10:38:26.203Z"
   },
   {
    "duration": 361,
    "start_time": "2021-10-11T10:38:26.493Z"
   },
   {
    "duration": 3,
    "start_time": "2021-10-11T10:38:27.373Z"
   },
   {
    "duration": 6,
    "start_time": "2021-10-11T10:38:27.565Z"
   },
   {
    "duration": 406,
    "start_time": "2021-10-11T10:38:27.770Z"
   },
   {
    "duration": 5,
    "start_time": "2021-10-11T10:38:28.177Z"
   },
   {
    "duration": 391,
    "start_time": "2021-10-11T10:38:28.353Z"
   },
   {
    "duration": 395,
    "start_time": "2021-10-11T10:38:28.747Z"
   },
   {
    "duration": 271,
    "start_time": "2021-10-11T10:38:29.145Z"
   },
   {
    "duration": 333,
    "start_time": "2021-10-11T10:38:29.467Z"
   },
   {
    "duration": 7,
    "start_time": "2021-10-11T10:38:30.513Z"
   },
   {
    "duration": 4,
    "start_time": "2021-10-11T10:38:30.730Z"
   },
   {
    "duration": 21,
    "start_time": "2021-10-11T10:38:31.874Z"
   },
   {
    "duration": 6,
    "start_time": "2021-10-11T10:38:32.746Z"
   },
   {
    "duration": 5,
    "start_time": "2021-10-11T10:38:33.210Z"
   },
   {
    "duration": 20,
    "start_time": "2021-10-11T10:38:33.853Z"
   },
   {
    "duration": 32,
    "start_time": "2021-10-11T10:38:35.069Z"
   },
   {
    "duration": 59828,
    "start_time": "2021-10-11T10:38:37.855Z"
   },
   {
    "duration": 313,
    "start_time": "2021-10-11T10:39:53.266Z"
   },
   {
    "duration": 25,
    "start_time": "2021-10-11T10:39:53.651Z"
   },
   {
    "duration": 5,
    "start_time": "2021-10-11T10:39:58.161Z"
   },
   {
    "duration": 5,
    "start_time": "2021-10-11T10:39:58.700Z"
   },
   {
    "duration": 4,
    "start_time": "2021-10-11T10:39:59.201Z"
   },
   {
    "duration": 4,
    "start_time": "2021-10-11T10:39:59.717Z"
   },
   {
    "duration": 2,
    "start_time": "2021-10-11T10:40:09.299Z"
   },
   {
    "duration": 84,
    "start_time": "2021-10-11T10:40:10.173Z"
   },
   {
    "duration": 5,
    "start_time": "2021-10-11T10:40:12.513Z"
   },
   {
    "duration": 229,
    "start_time": "2021-10-11T10:40:21.788Z"
   },
   {
    "duration": 337,
    "start_time": "2021-10-12T04:57:30.457Z"
   },
   {
    "duration": 1177,
    "start_time": "2021-10-12T04:57:46.315Z"
   },
   {
    "duration": 34,
    "start_time": "2021-10-12T04:57:48.294Z"
   },
   {
    "duration": 11,
    "start_time": "2021-10-12T04:57:48.464Z"
   },
   {
    "duration": 8,
    "start_time": "2021-10-12T04:57:48.641Z"
   },
   {
    "duration": 13,
    "start_time": "2021-10-12T04:57:48.996Z"
   },
   {
    "duration": 8,
    "start_time": "2021-10-12T04:57:49.173Z"
   },
   {
    "duration": 10,
    "start_time": "2021-10-12T04:57:49.356Z"
   },
   {
    "duration": 5,
    "start_time": "2021-10-12T04:57:49.526Z"
   },
   {
    "duration": 4,
    "start_time": "2021-10-12T04:57:49.694Z"
   },
   {
    "duration": 11,
    "start_time": "2021-10-12T04:57:50.075Z"
   },
   {
    "duration": 322,
    "start_time": "2021-10-12T04:57:50.650Z"
   },
   {
    "duration": 285,
    "start_time": "2021-10-12T04:57:51.012Z"
   },
   {
    "duration": 337,
    "start_time": "2021-10-12T04:57:51.299Z"
   },
   {
    "duration": 4,
    "start_time": "2021-10-12T04:57:53.982Z"
   },
   {
    "duration": 7,
    "start_time": "2021-10-12T04:57:54.183Z"
   },
   {
    "duration": 287,
    "start_time": "2021-10-12T04:57:54.333Z"
   },
   {
    "duration": 6,
    "start_time": "2021-10-12T04:57:54.721Z"
   },
   {
    "duration": 380,
    "start_time": "2021-10-12T04:57:54.884Z"
   },
   {
    "duration": 368,
    "start_time": "2021-10-12T04:57:55.266Z"
   },
   {
    "duration": 254,
    "start_time": "2021-10-12T04:57:55.637Z"
   },
   {
    "duration": 317,
    "start_time": "2021-10-12T04:57:56.013Z"
   },
   {
    "duration": 7,
    "start_time": "2021-10-12T04:57:56.974Z"
   },
   {
    "duration": 4,
    "start_time": "2021-10-12T04:57:57.144Z"
   },
   {
    "duration": 24,
    "start_time": "2021-10-12T04:57:58.140Z"
   },
   {
    "duration": 5,
    "start_time": "2021-10-12T04:57:58.839Z"
   },
   {
    "duration": 5,
    "start_time": "2021-10-12T04:57:59.446Z"
   },
   {
    "duration": 14,
    "start_time": "2021-10-12T04:57:59.822Z"
   },
   {
    "duration": 25,
    "start_time": "2021-10-12T04:58:00.204Z"
   },
   {
    "duration": 58869,
    "start_time": "2021-10-12T04:58:00.599Z"
   },
   {
    "duration": 310,
    "start_time": "2021-10-12T04:58:59.469Z"
   },
   {
    "duration": 25,
    "start_time": "2021-10-12T04:58:59.781Z"
   },
   {
    "duration": 5,
    "start_time": "2021-10-12T04:58:59.808Z"
   },
   {
    "duration": 6,
    "start_time": "2021-10-12T05:06:06.807Z"
   },
   {
    "duration": 5,
    "start_time": "2021-10-12T05:06:07.484Z"
   },
   {
    "duration": 5,
    "start_time": "2021-10-12T05:06:07.893Z"
   },
   {
    "duration": 3,
    "start_time": "2021-10-12T05:06:11.727Z"
   },
   {
    "duration": 331,
    "start_time": "2021-10-12T05:06:13.612Z"
   },
   {
    "duration": 199,
    "start_time": "2021-10-12T05:06:39.307Z"
   },
   {
    "duration": 248,
    "start_time": "2021-10-12T05:07:49.989Z"
   },
   {
    "duration": 88,
    "start_time": "2021-10-12T05:09:47.838Z"
   },
   {
    "duration": 5,
    "start_time": "2021-10-12T05:09:51.493Z"
   },
   {
    "duration": 100,
    "start_time": "2021-10-12T05:11:22.278Z"
   },
   {
    "duration": 5,
    "start_time": "2021-10-12T05:11:24.319Z"
   },
   {
    "duration": 67,
    "start_time": "2021-10-12T05:11:28.624Z"
   },
   {
    "duration": 5,
    "start_time": "2021-10-12T05:11:29.374Z"
   },
   {
    "duration": 86,
    "start_time": "2021-10-12T05:11:35.027Z"
   },
   {
    "duration": 6,
    "start_time": "2021-10-12T05:11:35.115Z"
   },
   {
    "duration": 87,
    "start_time": "2021-10-12T05:11:40.005Z"
   },
   {
    "duration": 6,
    "start_time": "2021-10-12T05:11:40.405Z"
   },
   {
    "duration": 89,
    "start_time": "2021-10-12T05:11:42.769Z"
   },
   {
    "duration": 7,
    "start_time": "2021-10-12T05:11:43.109Z"
   },
   {
    "duration": 87,
    "start_time": "2021-10-12T05:11:45.627Z"
   },
   {
    "duration": 5,
    "start_time": "2021-10-12T05:11:46.166Z"
   },
   {
    "duration": 85,
    "start_time": "2021-10-12T05:11:50.194Z"
   },
   {
    "duration": 6,
    "start_time": "2021-10-12T05:11:50.701Z"
   },
   {
    "duration": 83,
    "start_time": "2021-10-12T05:11:53.613Z"
   },
   {
    "duration": 6,
    "start_time": "2021-10-12T05:11:54.176Z"
   },
   {
    "duration": 83,
    "start_time": "2021-10-12T05:11:56.167Z"
   },
   {
    "duration": 5,
    "start_time": "2021-10-12T05:11:56.552Z"
   },
   {
    "duration": 85,
    "start_time": "2021-10-12T05:11:58.277Z"
   },
   {
    "duration": 6,
    "start_time": "2021-10-12T05:11:58.392Z"
   },
   {
    "duration": 97,
    "start_time": "2021-10-12T05:12:00.629Z"
   },
   {
    "duration": 5,
    "start_time": "2021-10-12T05:12:00.934Z"
   },
   {
    "duration": 88,
    "start_time": "2021-10-12T05:12:02.783Z"
   },
   {
    "duration": 6,
    "start_time": "2021-10-12T05:12:03.143Z"
   },
   {
    "duration": 89,
    "start_time": "2021-10-12T05:12:05.118Z"
   },
   {
    "duration": 5,
    "start_time": "2021-10-12T05:12:05.404Z"
   },
   {
    "duration": 84,
    "start_time": "2021-10-12T05:12:08.063Z"
   },
   {
    "duration": 7,
    "start_time": "2021-10-12T05:12:08.415Z"
   },
   {
    "duration": 84,
    "start_time": "2021-10-12T05:12:12.432Z"
   },
   {
    "duration": 6,
    "start_time": "2021-10-12T05:12:12.782Z"
   },
   {
    "duration": 83,
    "start_time": "2021-10-12T05:12:14.963Z"
   },
   {
    "duration": 6,
    "start_time": "2021-10-12T05:12:15.275Z"
   },
   {
    "duration": 83,
    "start_time": "2021-10-12T05:12:17.653Z"
   },
   {
    "duration": 5,
    "start_time": "2021-10-12T05:12:18.065Z"
   },
   {
    "duration": 1084,
    "start_time": "2021-10-12T05:17:06.104Z"
   },
   {
    "duration": 33,
    "start_time": "2021-10-12T05:17:08.324Z"
   },
   {
    "duration": 10,
    "start_time": "2021-10-12T05:17:08.655Z"
   },
   {
    "duration": 8,
    "start_time": "2021-10-12T05:17:08.851Z"
   },
   {
    "duration": 13,
    "start_time": "2021-10-12T05:17:09.230Z"
   },
   {
    "duration": 6,
    "start_time": "2021-10-12T05:17:09.414Z"
   },
   {
    "duration": 10,
    "start_time": "2021-10-12T05:17:09.606Z"
   },
   {
    "duration": 3,
    "start_time": "2021-10-12T05:17:09.821Z"
   },
   {
    "duration": 3,
    "start_time": "2021-10-12T05:17:10.030Z"
   },
   {
    "duration": 11,
    "start_time": "2021-10-12T05:17:10.517Z"
   },
   {
    "duration": 325,
    "start_time": "2021-10-12T05:17:11.079Z"
   },
   {
    "duration": 289,
    "start_time": "2021-10-12T05:17:11.461Z"
   },
   {
    "duration": 322,
    "start_time": "2021-10-12T05:17:11.752Z"
   },
   {
    "duration": 4,
    "start_time": "2021-10-12T05:17:12.623Z"
   },
   {
    "duration": 6,
    "start_time": "2021-10-12T05:17:12.823Z"
   },
   {
    "duration": 334,
    "start_time": "2021-10-12T05:17:13.015Z"
   },
   {
    "duration": 7,
    "start_time": "2021-10-12T05:17:15.279Z"
   },
   {
    "duration": 393,
    "start_time": "2021-10-12T05:17:15.479Z"
   },
   {
    "duration": 375,
    "start_time": "2021-10-12T05:17:15.874Z"
   },
   {
    "duration": 236,
    "start_time": "2021-10-12T05:17:18.415Z"
   },
   {
    "duration": 315,
    "start_time": "2021-10-12T05:17:20.806Z"
   },
   {
    "duration": 7,
    "start_time": "2021-10-12T05:17:23.026Z"
   },
   {
    "duration": 5,
    "start_time": "2021-10-12T05:17:25.029Z"
   },
   {
    "duration": 24,
    "start_time": "2021-10-12T05:17:27.821Z"
   },
   {
    "duration": 5,
    "start_time": "2021-10-12T05:17:30.717Z"
   },
   {
    "duration": 6,
    "start_time": "2021-10-12T05:17:31.866Z"
   },
   {
    "duration": 16,
    "start_time": "2021-10-12T05:17:35.833Z"
   },
   {
    "duration": 303,
    "start_time": "2021-10-12T05:17:42.072Z"
   },
   {
    "duration": 89,
    "start_time": "2021-10-12T05:17:56.428Z"
   },
   {
    "duration": 4,
    "start_time": "2021-10-12T05:18:13.389Z"
   },
   {
    "duration": 205,
    "start_time": "2021-10-12T05:18:14.314Z"
   },
   {
    "duration": 5,
    "start_time": "2021-10-12T05:18:21.167Z"
   },
   {
    "duration": 6,
    "start_time": "2021-10-12T05:18:37.665Z"
   },
   {
    "duration": 86,
    "start_time": "2021-10-12T05:19:03.747Z"
   },
   {
    "duration": 6,
    "start_time": "2021-10-12T05:19:10.944Z"
   },
   {
    "duration": 3,
    "start_time": "2021-10-12T05:19:38.754Z"
   },
   {
    "duration": 225,
    "start_time": "2021-10-12T05:19:55.870Z"
   },
   {
    "duration": 88,
    "start_time": "2021-10-12T05:20:03.007Z"
   },
   {
    "duration": 5,
    "start_time": "2021-10-12T05:20:12.066Z"
   },
   {
    "duration": 4,
    "start_time": "2021-10-12T05:20:15.301Z"
   },
   {
    "duration": 86,
    "start_time": "2021-10-12T05:20:20.612Z"
   },
   {
    "duration": 5,
    "start_time": "2021-10-12T05:20:25.771Z"
   },
   {
    "duration": 3,
    "start_time": "2021-10-12T05:20:27.633Z"
   },
   {
    "duration": 91,
    "start_time": "2021-10-12T05:20:33.832Z"
   },
   {
    "duration": 5,
    "start_time": "2021-10-12T05:20:39.391Z"
   },
   {
    "duration": 3,
    "start_time": "2021-10-12T05:20:41.104Z"
   },
   {
    "duration": 57453,
    "start_time": "2021-10-12T05:20:45.655Z"
   },
   {
    "duration": 1107,
    "start_time": "2021-10-12T05:23:07.989Z"
   },
   {
    "duration": 35,
    "start_time": "2021-10-12T05:23:10.017Z"
   },
   {
    "duration": 11,
    "start_time": "2021-10-12T05:23:10.210Z"
   },
   {
    "duration": 9,
    "start_time": "2021-10-12T05:23:10.397Z"
   },
   {
    "duration": 12,
    "start_time": "2021-10-12T05:23:10.758Z"
   },
   {
    "duration": 9,
    "start_time": "2021-10-12T05:23:10.961Z"
   },
   {
    "duration": 9,
    "start_time": "2021-10-12T05:23:11.145Z"
   },
   {
    "duration": 4,
    "start_time": "2021-10-12T05:23:11.506Z"
   },
   {
    "duration": 3,
    "start_time": "2021-10-12T05:23:11.696Z"
   },
   {
    "duration": 11,
    "start_time": "2021-10-12T05:23:12.100Z"
   },
   {
    "duration": 332,
    "start_time": "2021-10-12T05:23:12.736Z"
   },
   {
    "duration": 297,
    "start_time": "2021-10-12T05:23:13.174Z"
   },
   {
    "duration": 322,
    "start_time": "2021-10-12T05:23:13.472Z"
   },
   {
    "duration": 4,
    "start_time": "2021-10-12T05:23:14.473Z"
   },
   {
    "duration": 7,
    "start_time": "2021-10-12T05:23:14.705Z"
   },
   {
    "duration": 297,
    "start_time": "2021-10-12T05:23:14.905Z"
   },
   {
    "duration": 8,
    "start_time": "2021-10-12T05:23:15.446Z"
   },
   {
    "duration": 378,
    "start_time": "2021-10-12T05:23:15.711Z"
   },
   {
    "duration": 392,
    "start_time": "2021-10-12T05:23:16.092Z"
   },
   {
    "duration": 257,
    "start_time": "2021-10-12T05:23:16.486Z"
   },
   {
    "duration": 319,
    "start_time": "2021-10-12T05:23:19.637Z"
   },
   {
    "duration": 8,
    "start_time": "2021-10-12T05:23:23.485Z"
   },
   {
    "duration": 5,
    "start_time": "2021-10-12T05:23:26.573Z"
   },
   {
    "duration": 24,
    "start_time": "2021-10-12T05:23:35.201Z"
   },
   {
    "duration": 6,
    "start_time": "2021-10-12T05:23:45.247Z"
   },
   {
    "duration": 6,
    "start_time": "2021-10-12T05:23:59.433Z"
   },
   {
    "duration": 15,
    "start_time": "2021-10-12T05:24:01.598Z"
   },
   {
    "duration": 81,
    "start_time": "2021-10-12T05:24:10.202Z"
   },
   {
    "duration": 4,
    "start_time": "2021-10-12T05:24:19.794Z"
   },
   {
    "duration": 5,
    "start_time": "2021-10-12T05:24:21.569Z"
   },
   {
    "duration": 4,
    "start_time": "2021-10-12T05:24:23.916Z"
   },
   {
    "duration": 1202,
    "start_time": "2021-10-12T05:30:45.107Z"
   },
   {
    "duration": 33,
    "start_time": "2021-10-12T05:30:46.311Z"
   },
   {
    "duration": 13,
    "start_time": "2021-10-12T05:30:46.346Z"
   },
   {
    "duration": 9,
    "start_time": "2021-10-12T05:30:46.884Z"
   },
   {
    "duration": 17,
    "start_time": "2021-10-12T05:30:47.250Z"
   },
   {
    "duration": 8,
    "start_time": "2021-10-12T05:30:47.442Z"
   },
   {
    "duration": 9,
    "start_time": "2021-10-12T05:30:47.625Z"
   },
   {
    "duration": 4,
    "start_time": "2021-10-12T05:30:47.810Z"
   },
   {
    "duration": 3,
    "start_time": "2021-10-12T05:30:48.004Z"
   },
   {
    "duration": 14,
    "start_time": "2021-10-12T05:30:48.551Z"
   },
   {
    "duration": 348,
    "start_time": "2021-10-12T05:30:49.144Z"
   },
   {
    "duration": 309,
    "start_time": "2021-10-12T05:30:49.546Z"
   },
   {
    "duration": 350,
    "start_time": "2021-10-12T05:30:49.858Z"
   },
   {
    "duration": 5,
    "start_time": "2021-10-12T05:30:51.144Z"
   },
   {
    "duration": 7,
    "start_time": "2021-10-12T05:30:51.324Z"
   },
   {
    "duration": 317,
    "start_time": "2021-10-12T05:30:51.514Z"
   },
   {
    "duration": 6,
    "start_time": "2021-10-12T05:30:51.914Z"
   },
   {
    "duration": 400,
    "start_time": "2021-10-12T05:30:52.129Z"
   },
   {
    "duration": 409,
    "start_time": "2021-10-12T05:30:52.531Z"
   },
   {
    "duration": 265,
    "start_time": "2021-10-12T05:30:52.942Z"
   },
   {
    "duration": 339,
    "start_time": "2021-10-12T05:30:53.319Z"
   },
   {
    "duration": 8,
    "start_time": "2021-10-12T05:30:54.330Z"
   },
   {
    "duration": 4,
    "start_time": "2021-10-12T05:30:54.681Z"
   },
   {
    "duration": 23,
    "start_time": "2021-10-12T05:30:57.830Z"
   },
   {
    "duration": 5,
    "start_time": "2021-10-12T05:31:00.488Z"
   },
   {
    "duration": 6,
    "start_time": "2021-10-12T05:31:01.312Z"
   },
   {
    "duration": 14,
    "start_time": "2021-10-12T05:31:03.417Z"
   },
   {
    "duration": 87,
    "start_time": "2021-10-12T05:31:10.947Z"
   },
   {
    "duration": 3811,
    "start_time": "2021-10-12T05:31:15.973Z"
   },
   {
    "duration": 7,
    "start_time": "2021-10-12T05:31:26.258Z"
   },
   {
    "duration": 5,
    "start_time": "2021-10-12T05:31:26.892Z"
   },
   {
    "duration": 299,
    "start_time": "2021-10-12T05:31:28.763Z"
   },
   {
    "duration": 15,
    "start_time": "2021-10-12T05:32:17.245Z"
   },
   {
    "duration": 4,
    "start_time": "2021-10-12T05:32:19.512Z"
   }
  ],
  "kernelspec": {
   "display_name": "Python 3",
   "language": "python",
   "name": "python3"
  },
  "language_info": {
   "codemirror_mode": {
    "name": "ipython",
    "version": 3
   },
   "file_extension": ".py",
   "mimetype": "text/x-python",
   "name": "python",
   "nbconvert_exporter": "python",
   "pygments_lexer": "ipython3",
   "version": "3.7.10"
  },
  "toc": {
   "base_numbering": 1,
   "nav_menu": {},
   "number_sections": true,
   "sideBar": true,
   "skip_h1_title": true,
   "title_cell": "Содержание",
   "title_sidebar": "Contents",
   "toc_cell": true,
   "toc_position": {},
   "toc_section_display": true,
   "toc_window_display": false
  }
 },
 "nbformat": 4,
 "nbformat_minor": 2
}
